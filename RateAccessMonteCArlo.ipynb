{
 "cells": [
  {
   "cell_type": "markdown",
   "id": "bd222bda-62fc-4064-a584-2d8e1b8caced",
   "metadata": {},
   "source": [
    "A common problem in high-availability systems is how much resources to provide: how to ensure stability reducing the spending? A solution is auto-scaling: a system component that increases or decreases de amount of resources used by the system according to the current needs. But for that, we need to have an idea of how many requests will arrive. This is an interesting problem to model statistically.\n",
    "\n",
    "Consider an employee portal: it usually has a predictably mild number of access during most of the month. In the last day of month, however, it have a spike of access from employees looking for correcting clock-in registrations that may be missing. Then, on day 5, there is another spike, since employees receive their payment this day and want to check their payslip.\n",
    "\n",
    "If we consider access in general as defined by a Poisson process, we can consider choosing a nonhomogeneous Poisson distribution.\n",
    "\n",
    "Let's consider a scenario where we have 100 request per minute, except on the last day of the month, when it goes to 800 requests per minute, and on day 5, when it goes to 500 requests per minute. In this case, the rate function \\lambda responds for the day of the month:"
   ]
  },
  {
   "cell_type": "code",
   "execution_count": 2,
   "id": "304fe288-9809-4a90-8155-3ea7373aea0e",
   "metadata": {},
   "outputs": [],
   "source": [
    "from datetime import datetime, timedelta\n",
    "\n",
    "def rate_function(date):\n",
    "    \"\"\"\n",
    "    Return the rate of access to the web app per minute for every day.\n",
    "\n",
    "    >>> rate_function(datetime(year=2024, month=12, day=10))\n",
    "    100\n",
    "    >>> rate_function(datetime(year=2024, month=11, day=5))\n",
    "    500\n",
    "    >>> rate_function(datetime(year=2024, month=2, day=29))\n",
    "    800\n",
    "    \"\"\"\n",
    "    if date.day == 5:\n",
    "        return 500\n",
    "    if (date + timedelta(days=1)).day == 1:\n",
    "        return 800\n",
    "    return 100"
   ]
  }
 ],
 "metadata": {
  "kernelspec": {
   "display_name": "Python 3 (ipykernel)",
   "language": "python",
   "name": "python3"
  },
  "language_info": {
   "codemirror_mode": {
    "name": "ipython",
    "version": 3
   },
   "file_extension": ".py",
   "mimetype": "text/x-python",
   "name": "python",
   "nbconvert_exporter": "python",
   "pygments_lexer": "ipython3",
   "version": "3.12.3"
  }
 },
 "nbformat": 4,
 "nbformat_minor": 5
}
