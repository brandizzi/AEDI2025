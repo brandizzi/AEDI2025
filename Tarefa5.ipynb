{
 "cells": [
  {
   "cell_type": "code",
   "execution_count": null,
   "id": "ad169a12-7ab6-4147-92c4-111b1e24bcf9",
   "metadata": {},
   "outputs": [],
   "source": []
  },
  {
   "cell_type": "markdown",
   "id": "89e30a26-91f9-4e11-9975-96ebc5f6249a",
   "metadata": {},
   "source": [
    "# Análise de Retenção de Clientes com Regressão Logística\n",
    "\n",
    "**Tarefa 5 da disciplina Análise Estatística de Dados e Informações, ministrada por João Gabriel de Moraes Souza**\n",
    "\n",
    "**Aluno**: Adam Victor Nazareth Brandizzi\n",
    "\n",
    "## Introdução\n",
    "\n",
    "A retenção de clientes é um termo que refere-se tanto a uma métirca que avaialia quantos clientes permanecem ligados a uma instituição quanto procedimentos tomados para manter ou incrementar esta métrica. Isto ocorre porque o processo de aquisição de clientes é geralmente muito mais caro que a manutenção, e uma alta evasão (comumente chamada *churn*) pode indicar problemas fundamentais em uma empresa.\n",
    "\n",
    "Neste trabalho, avaliaremos as estatísticas de clientes de uma instituição bancária, tentando identificar que fatores podem levar a uma evasão maior ou menor. Para isto, vamos utilizar a base [Predicting Churn for Bank Customers](https://www.kaggle.com/datasets/adammaus/predicting-churn-for-bank-customers?resource=download).\n",
    "\n",
    "## Análise exploratória inicial"
   ]
  },
  {
   "cell_type": "code",
   "execution_count": 1,
   "id": "22554a62-f54d-4f3d-bde1-3fdb9f27da8b",
   "metadata": {},
   "outputs": [
    {
     "data": {
      "text/html": [
       "<div>\n",
       "<style scoped>\n",
       "    .dataframe tbody tr th:only-of-type {\n",
       "        vertical-align: middle;\n",
       "    }\n",
       "\n",
       "    .dataframe tbody tr th {\n",
       "        vertical-align: top;\n",
       "    }\n",
       "\n",
       "    .dataframe thead th {\n",
       "        text-align: right;\n",
       "    }\n",
       "</style>\n",
       "<table border=\"1\" class=\"dataframe\">\n",
       "  <thead>\n",
       "    <tr style=\"text-align: right;\">\n",
       "      <th></th>\n",
       "      <th>columns</th>\n",
       "    </tr>\n",
       "  </thead>\n",
       "  <tbody>\n",
       "    <tr>\n",
       "      <th>0</th>\n",
       "      <td>RowNumber</td>\n",
       "    </tr>\n",
       "    <tr>\n",
       "      <th>1</th>\n",
       "      <td>CustomerId</td>\n",
       "    </tr>\n",
       "    <tr>\n",
       "      <th>2</th>\n",
       "      <td>Surname</td>\n",
       "    </tr>\n",
       "    <tr>\n",
       "      <th>3</th>\n",
       "      <td>CreditScore</td>\n",
       "    </tr>\n",
       "    <tr>\n",
       "      <th>4</th>\n",
       "      <td>Geography</td>\n",
       "    </tr>\n",
       "    <tr>\n",
       "      <th>5</th>\n",
       "      <td>Gender</td>\n",
       "    </tr>\n",
       "    <tr>\n",
       "      <th>6</th>\n",
       "      <td>Age</td>\n",
       "    </tr>\n",
       "    <tr>\n",
       "      <th>7</th>\n",
       "      <td>Tenure</td>\n",
       "    </tr>\n",
       "    <tr>\n",
       "      <th>8</th>\n",
       "      <td>Balance</td>\n",
       "    </tr>\n",
       "    <tr>\n",
       "      <th>9</th>\n",
       "      <td>NumOfProducts</td>\n",
       "    </tr>\n",
       "    <tr>\n",
       "      <th>10</th>\n",
       "      <td>HasCrCard</td>\n",
       "    </tr>\n",
       "    <tr>\n",
       "      <th>11</th>\n",
       "      <td>IsActiveMember</td>\n",
       "    </tr>\n",
       "    <tr>\n",
       "      <th>12</th>\n",
       "      <td>EstimatedSalary</td>\n",
       "    </tr>\n",
       "    <tr>\n",
       "      <th>13</th>\n",
       "      <td>Exited</td>\n",
       "    </tr>\n",
       "  </tbody>\n",
       "</table>\n",
       "</div>"
      ],
      "text/plain": [
       "            columns\n",
       "0         RowNumber\n",
       "1        CustomerId\n",
       "2           Surname\n",
       "3       CreditScore\n",
       "4         Geography\n",
       "5            Gender\n",
       "6               Age\n",
       "7            Tenure\n",
       "8           Balance\n",
       "9     NumOfProducts\n",
       "10        HasCrCard\n",
       "11   IsActiveMember\n",
       "12  EstimatedSalary\n",
       "13           Exited"
      ]
     },
     "execution_count": 1,
     "metadata": {},
     "output_type": "execute_result"
    }
   ],
   "source": [
    "import pandas as pd\n",
    "df = pd.read_csv('./Churn_Modelling.csv')\n",
    "df.infer_objects(copy=False)\n",
    "pd.DataFrame(dict(columns=df.columns))"
   ]
  },
  {
   "cell_type": "markdown",
   "id": "7cbfaabc-3b93-4a22-8331-60a633a1ad5a",
   "metadata": {},
   "source": [
    "As colunas `RowNumber`, `CustomerId` e `Surname` podem, razoavelmente, ser descartadas sem grande análise: não esperamos que o nome ou o identificador (arbitrário) do cliente acrescentaria muita informação. A coluna `Exited` contém a variável dependente que desejamos prever, e as demais, as variáveis independentes (i.e. fatores) que temos disponíveis."
   ]
  },
  {
   "cell_type": "code",
   "execution_count": 2,
   "id": "778e53bd-5a94-4625-b39d-466998503002",
   "metadata": {},
   "outputs": [],
   "source": [
    "X = df.drop(['RowNumber', 'CustomerId', 'Surname', 'Exited'], axis=1).copy()\n",
    "Y = df['Exited'].astype(int).copy()\n",
    "factors = X.columns\n",
    "output_column = Y.name\n",
    "relevant_columns = list(factors) + [output_column]"
   ]
  },
  {
   "cell_type": "markdown",
   "id": "28a81e96-5b61-4409-9a32-887175e3c340",
   "metadata": {},
   "source": [
    "Vale a pena observar se as colunas possuem valores nulos (i.e.  `nan`, `null` etc.) como valores:"
   ]
  },
  {
   "cell_type": "code",
   "execution_count": 3,
   "id": "2d2854b9-02d4-4c07-9aff-cbc3f303a3b0",
   "metadata": {},
   "outputs": [
    {
     "data": {
      "text/html": [
       "<div>\n",
       "<style scoped>\n",
       "    .dataframe tbody tr th:only-of-type {\n",
       "        vertical-align: middle;\n",
       "    }\n",
       "\n",
       "    .dataframe tbody tr th {\n",
       "        vertical-align: top;\n",
       "    }\n",
       "\n",
       "    .dataframe thead th {\n",
       "        text-align: right;\n",
       "    }\n",
       "</style>\n",
       "<table border=\"1\" class=\"dataframe\">\n",
       "  <thead>\n",
       "    <tr style=\"text-align: right;\">\n",
       "      <th></th>\n",
       "      <th>factor</th>\n",
       "      <th>null</th>\n",
       "    </tr>\n",
       "  </thead>\n",
       "  <tbody>\n",
       "    <tr>\n",
       "      <th>0</th>\n",
       "      <td>CreditScore</td>\n",
       "      <td>False</td>\n",
       "    </tr>\n",
       "    <tr>\n",
       "      <th>1</th>\n",
       "      <td>Geography</td>\n",
       "      <td>False</td>\n",
       "    </tr>\n",
       "    <tr>\n",
       "      <th>2</th>\n",
       "      <td>Gender</td>\n",
       "      <td>False</td>\n",
       "    </tr>\n",
       "    <tr>\n",
       "      <th>3</th>\n",
       "      <td>Age</td>\n",
       "      <td>False</td>\n",
       "    </tr>\n",
       "    <tr>\n",
       "      <th>4</th>\n",
       "      <td>Tenure</td>\n",
       "      <td>False</td>\n",
       "    </tr>\n",
       "    <tr>\n",
       "      <th>5</th>\n",
       "      <td>Balance</td>\n",
       "      <td>False</td>\n",
       "    </tr>\n",
       "    <tr>\n",
       "      <th>6</th>\n",
       "      <td>NumOfProducts</td>\n",
       "      <td>False</td>\n",
       "    </tr>\n",
       "    <tr>\n",
       "      <th>7</th>\n",
       "      <td>HasCrCard</td>\n",
       "      <td>False</td>\n",
       "    </tr>\n",
       "    <tr>\n",
       "      <th>8</th>\n",
       "      <td>IsActiveMember</td>\n",
       "      <td>False</td>\n",
       "    </tr>\n",
       "    <tr>\n",
       "      <th>9</th>\n",
       "      <td>EstimatedSalary</td>\n",
       "      <td>False</td>\n",
       "    </tr>\n",
       "    <tr>\n",
       "      <th>10</th>\n",
       "      <td>Exited</td>\n",
       "      <td>False</td>\n",
       "    </tr>\n",
       "  </tbody>\n",
       "</table>\n",
       "</div>"
      ],
      "text/plain": [
       "             factor   null\n",
       "0       CreditScore  False\n",
       "1         Geography  False\n",
       "2            Gender  False\n",
       "3               Age  False\n",
       "4            Tenure  False\n",
       "5           Balance  False\n",
       "6     NumOfProducts  False\n",
       "7         HasCrCard  False\n",
       "8    IsActiveMember  False\n",
       "9   EstimatedSalary  False\n",
       "10           Exited  False"
      ]
     },
     "execution_count": 3,
     "metadata": {},
     "output_type": "execute_result"
    }
   ],
   "source": [
    "pd.DataFrame({\n",
    "    'factor': relevant_columns,\n",
    "    'null': [df[c].isnull().any() for c in relevant_columns]\n",
    "})\n"
   ]
  },
  {
   "cell_type": "markdown",
   "id": "0ac0a814-2046-43c1-9453-baffe3b66370",
   "metadata": {},
   "source": [
    "Felizmente, todas as linhas estão com suas colunas propriamente preenchidas.\n",
    "\n",
    "Note que, dos fatores restantes, dois são categóricos:  `Geography` e `Gender`. Vamos tomar nota, pois eventualmente teremos de codificá-los em valores numéricos.\n"
   ]
  },
  {
   "cell_type": "code",
   "execution_count": 4,
   "id": "79b8b067-d3a9-4688-bd3d-e7513f3f38bd",
   "metadata": {},
   "outputs": [],
   "source": [
    "categorical_factors = ['Geography', 'Gender']\n",
    "numeric_factors = [f for f in X.columns if f not in categorical_factors and f != 'const']\n",
    "X_raw = X\n",
    "X = pd.get_dummies(X, columns=categorical_factors, drop_first=True, dtype=int)"
   ]
  },
  {
   "cell_type": "markdown",
   "id": "ce0ca3e9-29a5-415e-9ab9-d02c8392eb1e",
   "metadata": {},
   "source": [
    "Façamos então uma breve análise exploratória de cada fator.\n",
    "\n",
    "## `Geography`\n",
    "\n",
    "Os clientes vêm de locais diferentes. Estas são as localições encontradas na base:"
   ]
  },
  {
   "cell_type": "code",
   "execution_count": 5,
   "id": "7bb41484-ceb4-4826-898d-c35f61c68c79",
   "metadata": {},
   "outputs": [],
   "source": [
    "import plotly.express as px\n",
    "\n",
    "def count_exited(X, Y, factor):\n",
    "    counting = pd.DataFrame(X[factor].value_counts())\n",
    "    counting['Exited'] = [\n",
    "        sum(Y[X[factor] == c]) for c in counting.index\n",
    "    ]\n",
    "    counting[\"Stayed\"] = counting.iloc[:, 0] - counting[\"Exited\"]\n",
    "    counting[\"Exited%\"] = counting[\"Exited\"] / counting.iloc[:, 0]\n",
    "    counting[\"Stayed%\"] = counting[\"Stayed\"] / counting.iloc[:, 0]\n",
    "    return counting\n",
    "\n",
    "def plot_counting(title, counting, format='bar'):  \n",
    "    factor_name = counting.index.name or 'Value'\n",
    "    title = f\"Proportion of Exited vs Stayed by {factor_name}\"\n",
    "    \n",
    "    df = counting.reset_index().melt(\n",
    "        id_vars=factor_name,\n",
    "        value_vars=[\"Exited%\", \"Stayed%\"],\n",
    "        var_name=\"Status\",\n",
    "        value_name=\"Proportion\"\n",
    "    )\n",
    "\n",
    "    fig = None\n",
    "    if format == 'bar':\n",
    "        fig = px.bar(\n",
    "            df,\n",
    "            x=factor_name,\n",
    "            y=\"Proportion\",\n",
    "            color=\"Status\",\n",
    "            title=title,\n",
    "            text=df[\"Proportion\"].apply(lambda x: f\"{x:.0%}\"),\n",
    "        )\n",
    "    elif format == 'area':\n",
    "        fig = px.area(\n",
    "            df,\n",
    "            x=counting.index.name or \"Value\",\n",
    "            y=\"Proportion\",\n",
    "            color=\"Status\",\n",
    "            title=title,\n",
    "        )\n",
    "        \n",
    "    fig.update_layout(\n",
    "        yaxis=dict(title=title, tickformat=\".0%\"),\n",
    "        xaxis_title=factor_name,\n",
    "        legend_title=\"Status\",\n",
    "        hovermode=\"x unified\",\n",
    "        height=500,\n",
    "    )\n",
    "\n",
    "    fig.show()\n",
    "    return counting\n",
    "    "
   ]
  },
  {
   "cell_type": "code",
   "execution_count": 6,
   "id": "97c9f2c7-3b0d-406d-96d6-40099cb0cd81",
   "metadata": {},
   "outputs": [
    {
     "data": {
      "application/vnd.plotly.v1+json": {
       "config": {
        "plotlyServerURL": "https://plot.ly"
       },
       "data": [
        {
         "hovertemplate": "Status=Exited%<br>Geography=%{x}<br>Proportion=%{y}<br>text=%{text}<extra></extra>",
         "legendgroup": "Exited%",
         "marker": {
          "color": "#636efa",
          "pattern": {
           "shape": ""
          }
         },
         "name": "Exited%",
         "orientation": "v",
         "showlegend": true,
         "text": [
          "16%",
          "32%",
          "17%"
         ],
         "textposition": "auto",
         "type": "bar",
         "x": [
          "France",
          "Germany",
          "Spain"
         ],
         "xaxis": "x",
         "y": {
          "_inputArray": {
           "0": 0.16154766653370561,
           "1": 0.32443204463929853,
           "2": 0.1667339523617279,
           "bdata": "zvFADJitxD9EA2CffsPUP35iQ8SJV8U/",
           "dtype": "f8",
           "shape": "3"
          },
          "bdata": "zvFADJitxD9EA2CffsPUP35iQ8SJV8U/",
          "dtype": "f8"
         },
         "yaxis": "y"
        },
        {
         "hovertemplate": "Status=Stayed%<br>Geography=%{x}<br>Proportion=%{y}<br>text=%{text}<extra></extra>",
         "legendgroup": "Stayed%",
         "marker": {
          "color": "#EF553B",
          "pattern": {
           "shape": ""
          }
         },
         "name": "Stayed%",
         "orientation": "v",
         "showlegend": true,
         "text": [
          "84%",
          "68%",
          "83%"
         ],
         "textposition": "auto",
         "type": "bar",
         "x": [
          "France",
          "Germany",
          "Spain"
         ],
         "xaxis": "x",
         "y": {
          "_inputArray": {
           "0": 0.8384523334662943,
           "1": 0.6755679553607015,
           "2": 0.8332660476382721,
           "bdata": "jMPv/JnU6j9e/k+wQJ7lP2An744dquo/",
           "dtype": "f8",
           "shape": "3"
          },
          "bdata": "jMPv/JnU6j9e/k+wQJ7lP2An744dquo/",
          "dtype": "f8"
         },
         "yaxis": "y"
        }
       ],
       "layout": {
        "autosize": true,
        "barmode": "relative",
        "hovermode": "x unified",
        "legend": {
         "title": {
          "text": "Status"
         },
         "tracegroupgap": 0
        },
        "template": {
         "data": {
          "bar": [
           {
            "error_x": {
             "color": "#2a3f5f"
            },
            "error_y": {
             "color": "#2a3f5f"
            },
            "marker": {
             "line": {
              "color": "#E5ECF6",
              "width": 0.5
             },
             "pattern": {
              "fillmode": "overlay",
              "size": 10,
              "solidity": 0.2
             }
            },
            "type": "bar"
           }
          ],
          "barpolar": [
           {
            "marker": {
             "line": {
              "color": "#E5ECF6",
              "width": 0.5
             },
             "pattern": {
              "fillmode": "overlay",
              "size": 10,
              "solidity": 0.2
             }
            },
            "type": "barpolar"
           }
          ],
          "carpet": [
           {
            "aaxis": {
             "endlinecolor": "#2a3f5f",
             "gridcolor": "white",
             "linecolor": "white",
             "minorgridcolor": "white",
             "startlinecolor": "#2a3f5f"
            },
            "baxis": {
             "endlinecolor": "#2a3f5f",
             "gridcolor": "white",
             "linecolor": "white",
             "minorgridcolor": "white",
             "startlinecolor": "#2a3f5f"
            },
            "type": "carpet"
           }
          ],
          "choropleth": [
           {
            "colorbar": {
             "outlinewidth": 0,
             "ticks": ""
            },
            "type": "choropleth"
           }
          ],
          "contour": [
           {
            "colorbar": {
             "outlinewidth": 0,
             "ticks": ""
            },
            "colorscale": [
             [
              0,
              "#0d0887"
             ],
             [
              0.1111111111111111,
              "#46039f"
             ],
             [
              0.2222222222222222,
              "#7201a8"
             ],
             [
              0.3333333333333333,
              "#9c179e"
             ],
             [
              0.4444444444444444,
              "#bd3786"
             ],
             [
              0.5555555555555556,
              "#d8576b"
             ],
             [
              0.6666666666666666,
              "#ed7953"
             ],
             [
              0.7777777777777778,
              "#fb9f3a"
             ],
             [
              0.8888888888888888,
              "#fdca26"
             ],
             [
              1,
              "#f0f921"
             ]
            ],
            "type": "contour"
           }
          ],
          "contourcarpet": [
           {
            "colorbar": {
             "outlinewidth": 0,
             "ticks": ""
            },
            "type": "contourcarpet"
           }
          ],
          "heatmap": [
           {
            "colorbar": {
             "outlinewidth": 0,
             "ticks": ""
            },
            "colorscale": [
             [
              0,
              "#0d0887"
             ],
             [
              0.1111111111111111,
              "#46039f"
             ],
             [
              0.2222222222222222,
              "#7201a8"
             ],
             [
              0.3333333333333333,
              "#9c179e"
             ],
             [
              0.4444444444444444,
              "#bd3786"
             ],
             [
              0.5555555555555556,
              "#d8576b"
             ],
             [
              0.6666666666666666,
              "#ed7953"
             ],
             [
              0.7777777777777778,
              "#fb9f3a"
             ],
             [
              0.8888888888888888,
              "#fdca26"
             ],
             [
              1,
              "#f0f921"
             ]
            ],
            "type": "heatmap"
           }
          ],
          "histogram": [
           {
            "marker": {
             "pattern": {
              "fillmode": "overlay",
              "size": 10,
              "solidity": 0.2
             }
            },
            "type": "histogram"
           }
          ],
          "histogram2d": [
           {
            "colorbar": {
             "outlinewidth": 0,
             "ticks": ""
            },
            "colorscale": [
             [
              0,
              "#0d0887"
             ],
             [
              0.1111111111111111,
              "#46039f"
             ],
             [
              0.2222222222222222,
              "#7201a8"
             ],
             [
              0.3333333333333333,
              "#9c179e"
             ],
             [
              0.4444444444444444,
              "#bd3786"
             ],
             [
              0.5555555555555556,
              "#d8576b"
             ],
             [
              0.6666666666666666,
              "#ed7953"
             ],
             [
              0.7777777777777778,
              "#fb9f3a"
             ],
             [
              0.8888888888888888,
              "#fdca26"
             ],
             [
              1,
              "#f0f921"
             ]
            ],
            "type": "histogram2d"
           }
          ],
          "histogram2dcontour": [
           {
            "colorbar": {
             "outlinewidth": 0,
             "ticks": ""
            },
            "colorscale": [
             [
              0,
              "#0d0887"
             ],
             [
              0.1111111111111111,
              "#46039f"
             ],
             [
              0.2222222222222222,
              "#7201a8"
             ],
             [
              0.3333333333333333,
              "#9c179e"
             ],
             [
              0.4444444444444444,
              "#bd3786"
             ],
             [
              0.5555555555555556,
              "#d8576b"
             ],
             [
              0.6666666666666666,
              "#ed7953"
             ],
             [
              0.7777777777777778,
              "#fb9f3a"
             ],
             [
              0.8888888888888888,
              "#fdca26"
             ],
             [
              1,
              "#f0f921"
             ]
            ],
            "type": "histogram2dcontour"
           }
          ],
          "mesh3d": [
           {
            "colorbar": {
             "outlinewidth": 0,
             "ticks": ""
            },
            "type": "mesh3d"
           }
          ],
          "parcoords": [
           {
            "line": {
             "colorbar": {
              "outlinewidth": 0,
              "ticks": ""
             }
            },
            "type": "parcoords"
           }
          ],
          "pie": [
           {
            "automargin": true,
            "type": "pie"
           }
          ],
          "scatter": [
           {
            "fillpattern": {
             "fillmode": "overlay",
             "size": 10,
             "solidity": 0.2
            },
            "type": "scatter"
           }
          ],
          "scatter3d": [
           {
            "line": {
             "colorbar": {
              "outlinewidth": 0,
              "ticks": ""
             }
            },
            "marker": {
             "colorbar": {
              "outlinewidth": 0,
              "ticks": ""
             }
            },
            "type": "scatter3d"
           }
          ],
          "scattercarpet": [
           {
            "marker": {
             "colorbar": {
              "outlinewidth": 0,
              "ticks": ""
             }
            },
            "type": "scattercarpet"
           }
          ],
          "scattergeo": [
           {
            "marker": {
             "colorbar": {
              "outlinewidth": 0,
              "ticks": ""
             }
            },
            "type": "scattergeo"
           }
          ],
          "scattergl": [
           {
            "marker": {
             "colorbar": {
              "outlinewidth": 0,
              "ticks": ""
             }
            },
            "type": "scattergl"
           }
          ],
          "scattermap": [
           {
            "marker": {
             "colorbar": {
              "outlinewidth": 0,
              "ticks": ""
             }
            },
            "type": "scattermap"
           }
          ],
          "scattermapbox": [
           {
            "marker": {
             "colorbar": {
              "outlinewidth": 0,
              "ticks": ""
             }
            },
            "type": "scattermapbox"
           }
          ],
          "scatterpolar": [
           {
            "marker": {
             "colorbar": {
              "outlinewidth": 0,
              "ticks": ""
             }
            },
            "type": "scatterpolar"
           }
          ],
          "scatterpolargl": [
           {
            "marker": {
             "colorbar": {
              "outlinewidth": 0,
              "ticks": ""
             }
            },
            "type": "scatterpolargl"
           }
          ],
          "scatterternary": [
           {
            "marker": {
             "colorbar": {
              "outlinewidth": 0,
              "ticks": ""
             }
            },
            "type": "scatterternary"
           }
          ],
          "surface": [
           {
            "colorbar": {
             "outlinewidth": 0,
             "ticks": ""
            },
            "colorscale": [
             [
              0,
              "#0d0887"
             ],
             [
              0.1111111111111111,
              "#46039f"
             ],
             [
              0.2222222222222222,
              "#7201a8"
             ],
             [
              0.3333333333333333,
              "#9c179e"
             ],
             [
              0.4444444444444444,
              "#bd3786"
             ],
             [
              0.5555555555555556,
              "#d8576b"
             ],
             [
              0.6666666666666666,
              "#ed7953"
             ],
             [
              0.7777777777777778,
              "#fb9f3a"
             ],
             [
              0.8888888888888888,
              "#fdca26"
             ],
             [
              1,
              "#f0f921"
             ]
            ],
            "type": "surface"
           }
          ],
          "table": [
           {
            "cells": {
             "fill": {
              "color": "#EBF0F8"
             },
             "line": {
              "color": "white"
             }
            },
            "header": {
             "fill": {
              "color": "#C8D4E3"
             },
             "line": {
              "color": "white"
             }
            },
            "type": "table"
           }
          ]
         },
         "layout": {
          "annotationdefaults": {
           "arrowcolor": "#2a3f5f",
           "arrowhead": 0,
           "arrowwidth": 1
          },
          "autotypenumbers": "strict",
          "coloraxis": {
           "colorbar": {
            "outlinewidth": 0,
            "ticks": ""
           }
          },
          "colorscale": {
           "diverging": [
            [
             0,
             "#8e0152"
            ],
            [
             0.1,
             "#c51b7d"
            ],
            [
             0.2,
             "#de77ae"
            ],
            [
             0.3,
             "#f1b6da"
            ],
            [
             0.4,
             "#fde0ef"
            ],
            [
             0.5,
             "#f7f7f7"
            ],
            [
             0.6,
             "#e6f5d0"
            ],
            [
             0.7,
             "#b8e186"
            ],
            [
             0.8,
             "#7fbc41"
            ],
            [
             0.9,
             "#4d9221"
            ],
            [
             1,
             "#276419"
            ]
           ],
           "sequential": [
            [
             0,
             "#0d0887"
            ],
            [
             0.1111111111111111,
             "#46039f"
            ],
            [
             0.2222222222222222,
             "#7201a8"
            ],
            [
             0.3333333333333333,
             "#9c179e"
            ],
            [
             0.4444444444444444,
             "#bd3786"
            ],
            [
             0.5555555555555556,
             "#d8576b"
            ],
            [
             0.6666666666666666,
             "#ed7953"
            ],
            [
             0.7777777777777778,
             "#fb9f3a"
            ],
            [
             0.8888888888888888,
             "#fdca26"
            ],
            [
             1,
             "#f0f921"
            ]
           ],
           "sequentialminus": [
            [
             0,
             "#0d0887"
            ],
            [
             0.1111111111111111,
             "#46039f"
            ],
            [
             0.2222222222222222,
             "#7201a8"
            ],
            [
             0.3333333333333333,
             "#9c179e"
            ],
            [
             0.4444444444444444,
             "#bd3786"
            ],
            [
             0.5555555555555556,
             "#d8576b"
            ],
            [
             0.6666666666666666,
             "#ed7953"
            ],
            [
             0.7777777777777778,
             "#fb9f3a"
            ],
            [
             0.8888888888888888,
             "#fdca26"
            ],
            [
             1,
             "#f0f921"
            ]
           ]
          },
          "colorway": [
           "#636efa",
           "#EF553B",
           "#00cc96",
           "#ab63fa",
           "#FFA15A",
           "#19d3f3",
           "#FF6692",
           "#B6E880",
           "#FF97FF",
           "#FECB52"
          ],
          "font": {
           "color": "#2a3f5f"
          },
          "geo": {
           "bgcolor": "white",
           "lakecolor": "white",
           "landcolor": "#E5ECF6",
           "showlakes": true,
           "showland": true,
           "subunitcolor": "white"
          },
          "hoverlabel": {
           "align": "left"
          },
          "hovermode": "closest",
          "mapbox": {
           "style": "light"
          },
          "paper_bgcolor": "white",
          "plot_bgcolor": "#E5ECF6",
          "polar": {
           "angularaxis": {
            "gridcolor": "white",
            "linecolor": "white",
            "ticks": ""
           },
           "bgcolor": "#E5ECF6",
           "radialaxis": {
            "gridcolor": "white",
            "linecolor": "white",
            "ticks": ""
           }
          },
          "scene": {
           "xaxis": {
            "backgroundcolor": "#E5ECF6",
            "gridcolor": "white",
            "gridwidth": 2,
            "linecolor": "white",
            "showbackground": true,
            "ticks": "",
            "zerolinecolor": "white"
           },
           "yaxis": {
            "backgroundcolor": "#E5ECF6",
            "gridcolor": "white",
            "gridwidth": 2,
            "linecolor": "white",
            "showbackground": true,
            "ticks": "",
            "zerolinecolor": "white"
           },
           "zaxis": {
            "backgroundcolor": "#E5ECF6",
            "gridcolor": "white",
            "gridwidth": 2,
            "linecolor": "white",
            "showbackground": true,
            "ticks": "",
            "zerolinecolor": "white"
           }
          },
          "shapedefaults": {
           "line": {
            "color": "#2a3f5f"
           }
          },
          "ternary": {
           "aaxis": {
            "gridcolor": "white",
            "linecolor": "white",
            "ticks": ""
           },
           "baxis": {
            "gridcolor": "white",
            "linecolor": "white",
            "ticks": ""
           },
           "bgcolor": "#E5ECF6",
           "caxis": {
            "gridcolor": "white",
            "linecolor": "white",
            "ticks": ""
           }
          },
          "title": {
           "x": 0.05
          },
          "xaxis": {
           "automargin": true,
           "gridcolor": "white",
           "linecolor": "white",
           "ticks": "",
           "title": {
            "standoff": 15
           },
           "zerolinecolor": "white",
           "zerolinewidth": 2
          },
          "yaxis": {
           "automargin": true,
           "gridcolor": "white",
           "linecolor": "white",
           "ticks": "",
           "title": {
            "standoff": 15
           },
           "zerolinecolor": "white",
           "zerolinewidth": 2
          }
         }
        },
        "title": {
         "text": "Proportion of Exited vs Stayed by Geography"
        },
        "xaxis": {
         "anchor": "y",
         "autorange": true,
         "domain": [
          0,
          1
         ],
         "range": [
          -0.5,
          2.5
         ],
         "title": {
          "text": "Geography"
         },
         "type": "category"
        },
        "yaxis": {
         "anchor": "x",
         "autorange": true,
         "domain": [
          0,
          1
         ],
         "range": [
          0,
          1.0526315789473684
         ],
         "tickformat": ".0%",
         "title": {
          "text": "Proportion of Exited vs Stayed by Geography"
         },
         "type": "linear"
        }
       }
      },
      "image/png": "[encoded data removed]"
     },
     "metadata": {},
     "output_type": "display_data"
    },
    {
     "data": {
      "text/html": [
       "<div>\n",
       "<style scoped>\n",
       "    .dataframe tbody tr th:only-of-type {\n",
       "        vertical-align: middle;\n",
       "    }\n",
       "\n",
       "    .dataframe tbody tr th {\n",
       "        vertical-align: top;\n",
       "    }\n",
       "\n",
       "    .dataframe thead th {\n",
       "        text-align: right;\n",
       "    }\n",
       "</style>\n",
       "<table border=\"1\" class=\"dataframe\">\n",
       "  <thead>\n",
       "    <tr style=\"text-align: right;\">\n",
       "      <th></th>\n",
       "      <th>count</th>\n",
       "      <th>Exited</th>\n",
       "      <th>Stayed</th>\n",
       "      <th>Exited%</th>\n",
       "      <th>Stayed%</th>\n",
       "    </tr>\n",
       "    <tr>\n",
       "      <th>Geography</th>\n",
       "      <th></th>\n",
       "      <th></th>\n",
       "      <th></th>\n",
       "      <th></th>\n",
       "      <th></th>\n",
       "    </tr>\n",
       "  </thead>\n",
       "  <tbody>\n",
       "    <tr>\n",
       "      <th>France</th>\n",
       "      <td>5014</td>\n",
       "      <td>810</td>\n",
       "      <td>4204</td>\n",
       "      <td>0.161548</td>\n",
       "      <td>0.838452</td>\n",
       "    </tr>\n",
       "    <tr>\n",
       "      <th>Germany</th>\n",
       "      <td>2509</td>\n",
       "      <td>814</td>\n",
       "      <td>1695</td>\n",
       "      <td>0.324432</td>\n",
       "      <td>0.675568</td>\n",
       "    </tr>\n",
       "    <tr>\n",
       "      <th>Spain</th>\n",
       "      <td>2477</td>\n",
       "      <td>413</td>\n",
       "      <td>2064</td>\n",
       "      <td>0.166734</td>\n",
       "      <td>0.833266</td>\n",
       "    </tr>\n",
       "  </tbody>\n",
       "</table>\n",
       "</div>"
      ],
      "text/plain": [
       "           count  Exited  Stayed   Exited%   Stayed%\n",
       "Geography                                           \n",
       "France      5014     810    4204  0.161548  0.838452\n",
       "Germany     2509     814    1695  0.324432  0.675568\n",
       "Spain       2477     413    2064  0.166734  0.833266"
      ]
     },
     "execution_count": 6,
     "metadata": {},
     "output_type": "execute_result"
    }
   ],
   "source": [
    "geography_counting = count_exited(X_raw, Y, 'Geography')\n",
    "\n",
    "plot_counting('Proporção de churn por país', geography_counting)"
   ]
  },
  {
   "cell_type": "markdown",
   "id": "0458be17-1906-40c2-bcb9-e970faf72e30",
   "metadata": {},
   "source": [
    "O fato de haver um churn maior na Alemanha indica que essa propriedade pode ter informações importantes para previsão.\n",
    "\n",
    "## Gender\n",
    "\n",
    "No que tange a gênero, notamos que mulheres tendem a fechar suas contas mais que homens proporcionalmente falando."
   ]
  },
  {
   "cell_type": "code",
   "execution_count": 7,
   "id": "90bdce7c-f2eb-4843-b0a5-79400d5510af",
   "metadata": {},
   "outputs": [
    {
     "data": {
      "application/vnd.plotly.v1+json": {
       "config": {
        "plotlyServerURL": "https://plot.ly"
       },
       "data": [
        {
         "hovertemplate": "Status=Exited%<br>Gender=%{x}<br>Proportion=%{y}<br>text=%{text}<extra></extra>",
         "legendgroup": "Exited%",
         "marker": {
          "color": "#636efa",
          "pattern": {
           "shape": ""
          }
         },
         "name": "Exited%",
         "orientation": "v",
         "showlegend": true,
         "text": [
          "16%",
          "25%"
         ],
         "textposition": "auto",
         "type": "bar",
         "x": [
          "Male",
          "Female"
         ],
         "xaxis": "x",
         "y": {
          "_inputArray": {
           "0": 0.16455928165658787,
           "1": 0.2507153863086066,
           "bdata": "LfF7TkcQxT+LKjOMuAvQPw==",
           "dtype": "f8",
           "shape": "2"
          },
          "bdata": "LfF7TkcQxT+LKjOMuAvQPw==",
          "dtype": "f8"
         },
         "yaxis": "y"
        },
        {
         "hovertemplate": "Status=Stayed%<br>Gender=%{x}<br>Proportion=%{y}<br>text=%{text}<extra></extra>",
         "legendgroup": "Stayed%",
         "marker": {
          "color": "#EF553B",
          "pattern": {
           "shape": ""
          }
         },
         "name": "Stayed%",
         "orientation": "v",
         "showlegend": true,
         "text": [
          "84%",
          "75%"
         ],
         "textposition": "auto",
         "type": "bar",
         "x": [
          "Male",
          "Female"
         ],
         "xaxis": "x",
         "y": {
          "_inputArray": {
           "0": 0.8354407183434122,
           "1": 0.7492846136913933,
           "bdata": "tQNhLO676j+6aua5I/rnPw==",
           "dtype": "f8",
           "shape": "2"
          },
          "bdata": "tQNhLO676j+6aua5I/rnPw==",
          "dtype": "f8"
         },
         "yaxis": "y"
        }
       ],
       "layout": {
        "autosize": true,
        "barmode": "relative",
        "hovermode": "x unified",
        "legend": {
         "title": {
          "text": "Status"
         },
         "tracegroupgap": 0
        },
        "template": {
         "data": {
          "bar": [
           {
            "error_x": {
             "color": "#2a3f5f"
            },
            "error_y": {
             "color": "#2a3f5f"
            },
            "marker": {
             "line": {
              "color": "#E5ECF6",
              "width": 0.5
             },
             "pattern": {
              "fillmode": "overlay",
              "size": 10,
              "solidity": 0.2
             }
            },
            "type": "bar"
           }
          ],
          "barpolar": [
           {
            "marker": {
             "line": {
              "color": "#E5ECF6",
              "width": 0.5
             },
             "pattern": {
              "fillmode": "overlay",
              "size": 10,
              "solidity": 0.2
             }
            },
            "type": "barpolar"
           }
          ],
          "carpet": [
           {
            "aaxis": {
             "endlinecolor": "#2a3f5f",
             "gridcolor": "white",
             "linecolor": "white",
             "minorgridcolor": "white",
             "startlinecolor": "#2a3f5f"
            },
            "baxis": {
             "endlinecolor": "#2a3f5f",
             "gridcolor": "white",
             "linecolor": "white",
             "minorgridcolor": "white",
             "startlinecolor": "#2a3f5f"
            },
            "type": "carpet"
           }
          ],
          "choropleth": [
           {
            "colorbar": {
             "outlinewidth": 0,
             "ticks": ""
            },
            "type": "choropleth"
           }
          ],
          "contour": [
           {
            "colorbar": {
             "outlinewidth": 0,
             "ticks": ""
            },
            "colorscale": [
             [
              0,
              "#0d0887"
             ],
             [
              0.1111111111111111,
              "#46039f"
             ],
             [
              0.2222222222222222,
              "#7201a8"
             ],
             [
              0.3333333333333333,
              "#9c179e"
             ],
             [
              0.4444444444444444,
              "#bd3786"
             ],
             [
              0.5555555555555556,
              "#d8576b"
             ],
             [
              0.6666666666666666,
              "#ed7953"
             ],
             [
              0.7777777777777778,
              "#fb9f3a"
             ],
             [
              0.8888888888888888,
              "#fdca26"
             ],
             [
              1,
              "#f0f921"
             ]
            ],
            "type": "contour"
           }
          ],
          "contourcarpet": [
           {
            "colorbar": {
             "outlinewidth": 0,
             "ticks": ""
            },
            "type": "contourcarpet"
           }
          ],
          "heatmap": [
           {
            "colorbar": {
             "outlinewidth": 0,
             "ticks": ""
            },
            "colorscale": [
             [
              0,
              "#0d0887"
             ],
             [
              0.1111111111111111,
              "#46039f"
             ],
             [
              0.2222222222222222,
              "#7201a8"
             ],
             [
              0.3333333333333333,
              "#9c179e"
             ],
             [
              0.4444444444444444,
              "#bd3786"
             ],
             [
              0.5555555555555556,
              "#d8576b"
             ],
             [
              0.6666666666666666,
              "#ed7953"
             ],
             [
              0.7777777777777778,
              "#fb9f3a"
             ],
             [
              0.8888888888888888,
              "#fdca26"
             ],
             [
              1,
              "#f0f921"
             ]
            ],
            "type": "heatmap"
           }
          ],
          "histogram": [
           {
            "marker": {
             "pattern": {
              "fillmode": "overlay",
              "size": 10,
              "solidity": 0.2
             }
            },
            "type": "histogram"
           }
          ],
          "histogram2d": [
           {
            "colorbar": {
             "outlinewidth": 0,
             "ticks": ""
            },
            "colorscale": [
             [
              0,
              "#0d0887"
             ],
             [
              0.1111111111111111,
              "#46039f"
             ],
             [
              0.2222222222222222,
              "#7201a8"
             ],
             [
              0.3333333333333333,
              "#9c179e"
             ],
             [
              0.4444444444444444,
              "#bd3786"
             ],
             [
              0.5555555555555556,
              "#d8576b"
             ],
             [
              0.6666666666666666,
              "#ed7953"
             ],
             [
              0.7777777777777778,
              "#fb9f3a"
             ],
             [
              0.8888888888888888,
              "#fdca26"
             ],
             [
              1,
              "#f0f921"
             ]
            ],
            "type": "histogram2d"
           }
          ],
          "histogram2dcontour": [
           {
            "colorbar": {
             "outlinewidth": 0,
             "ticks": ""
            },
            "colorscale": [
             [
              0,
              "#0d0887"
             ],
             [
              0.1111111111111111,
              "#46039f"
             ],
             [
              0.2222222222222222,
              "#7201a8"
             ],
             [
              0.3333333333333333,
              "#9c179e"
             ],
             [
              0.4444444444444444,
              "#bd3786"
             ],
             [
              0.5555555555555556,
              "#d8576b"
             ],
             [
              0.6666666666666666,
              "#ed7953"
             ],
             [
              0.7777777777777778,
              "#fb9f3a"
             ],
             [
              0.8888888888888888,
              "#fdca26"
             ],
             [
              1,
              "#f0f921"
             ]
            ],
            "type": "histogram2dcontour"
           }
          ],
          "mesh3d": [
           {
            "colorbar": {
             "outlinewidth": 0,
             "ticks": ""
            },
            "type": "mesh3d"
           }
          ],
          "parcoords": [
           {
            "line": {
             "colorbar": {
              "outlinewidth": 0,
              "ticks": ""
             }
            },
            "type": "parcoords"
           }
          ],
          "pie": [
           {
            "automargin": true,
            "type": "pie"
           }
          ],
          "scatter": [
           {
            "fillpattern": {
             "fillmode": "overlay",
             "size": 10,
             "solidity": 0.2
            },
            "type": "scatter"
           }
          ],
          "scatter3d": [
           {
            "line": {
             "colorbar": {
              "outlinewidth": 0,
              "ticks": ""
             }
            },
            "marker": {
             "colorbar": {
              "outlinewidth": 0,
              "ticks": ""
             }
            },
            "type": "scatter3d"
           }
          ],
          "scattercarpet": [
           {
            "marker": {
             "colorbar": {
              "outlinewidth": 0,
              "ticks": ""
             }
            },
            "type": "scattercarpet"
           }
          ],
          "scattergeo": [
           {
            "marker": {
             "colorbar": {
              "outlinewidth": 0,
              "ticks": ""
             }
            },
            "type": "scattergeo"
           }
          ],
          "scattergl": [
           {
            "marker": {
             "colorbar": {
              "outlinewidth": 0,
              "ticks": ""
             }
            },
            "type": "scattergl"
           }
          ],
          "scattermap": [
           {
            "marker": {
             "colorbar": {
              "outlinewidth": 0,
              "ticks": ""
             }
            },
            "type": "scattermap"
           }
          ],
          "scattermapbox": [
           {
            "marker": {
             "colorbar": {
              "outlinewidth": 0,
              "ticks": ""
             }
            },
            "type": "scattermapbox"
           }
          ],
          "scatterpolar": [
           {
            "marker": {
             "colorbar": {
              "outlinewidth": 0,
              "ticks": ""
             }
            },
            "type": "scatterpolar"
           }
          ],
          "scatterpolargl": [
           {
            "marker": {
             "colorbar": {
              "outlinewidth": 0,
              "ticks": ""
             }
            },
            "type": "scatterpolargl"
           }
          ],
          "scatterternary": [
           {
            "marker": {
             "colorbar": {
              "outlinewidth": 0,
              "ticks": ""
             }
            },
            "type": "scatterternary"
           }
          ],
          "surface": [
           {
            "colorbar": {
             "outlinewidth": 0,
             "ticks": ""
            },
            "colorscale": [
             [
              0,
              "#0d0887"
             ],
             [
              0.1111111111111111,
              "#46039f"
             ],
             [
              0.2222222222222222,
              "#7201a8"
             ],
             [
              0.3333333333333333,
              "#9c179e"
             ],
             [
              0.4444444444444444,
              "#bd3786"
             ],
             [
              0.5555555555555556,
              "#d8576b"
             ],
             [
              0.6666666666666666,
              "#ed7953"
             ],
             [
              0.7777777777777778,
              "#fb9f3a"
             ],
             [
              0.8888888888888888,
              "#fdca26"
             ],
             [
              1,
              "#f0f921"
             ]
            ],
            "type": "surface"
           }
          ],
          "table": [
           {
            "cells": {
             "fill": {
              "color": "#EBF0F8"
             },
             "line": {
              "color": "white"
             }
            },
            "header": {
             "fill": {
              "color": "#C8D4E3"
             },
             "line": {
              "color": "white"
             }
            },
            "type": "table"
           }
          ]
         },
         "layout": {
          "annotationdefaults": {
           "arrowcolor": "#2a3f5f",
           "arrowhead": 0,
           "arrowwidth": 1
          },
          "autotypenumbers": "strict",
          "coloraxis": {
           "colorbar": {
            "outlinewidth": 0,
            "ticks": ""
           }
          },
          "colorscale": {
           "diverging": [
            [
             0,
             "#8e0152"
            ],
            [
             0.1,
             "#c51b7d"
            ],
            [
             0.2,
             "#de77ae"
            ],
            [
             0.3,
             "#f1b6da"
            ],
            [
             0.4,
             "#fde0ef"
            ],
            [
             0.5,
             "#f7f7f7"
            ],
            [
             0.6,
             "#e6f5d0"
            ],
            [
             0.7,
             "#b8e186"
            ],
            [
             0.8,
             "#7fbc41"
            ],
            [
             0.9,
             "#4d9221"
            ],
            [
             1,
             "#276419"
            ]
           ],
           "sequential": [
            [
             0,
             "#0d0887"
            ],
            [
             0.1111111111111111,
             "#46039f"
            ],
            [
             0.2222222222222222,
             "#7201a8"
            ],
            [
             0.3333333333333333,
             "#9c179e"
            ],
            [
             0.4444444444444444,
             "#bd3786"
            ],
            [
             0.5555555555555556,
             "#d8576b"
            ],
            [
             0.6666666666666666,
             "#ed7953"
            ],
            [
             0.7777777777777778,
             "#fb9f3a"
            ],
            [
             0.8888888888888888,
             "#fdca26"
            ],
            [
             1,
             "#f0f921"
            ]
           ],
           "sequentialminus": [
            [
             0,
             "#0d0887"
            ],
            [
             0.1111111111111111,
             "#46039f"
            ],
            [
             0.2222222222222222,
             "#7201a8"
            ],
            [
             0.3333333333333333,
             "#9c179e"
            ],
            [
             0.4444444444444444,
             "#bd3786"
            ],
            [
             0.5555555555555556,
             "#d8576b"
            ],
            [
             0.6666666666666666,
             "#ed7953"
            ],
            [
             0.7777777777777778,
             "#fb9f3a"
            ],
            [
             0.8888888888888888,
             "#fdca26"
            ],
            [
             1,
             "#f0f921"
            ]
           ]
          },
          "colorway": [
           "#636efa",
           "#EF553B",
           "#00cc96",
           "#ab63fa",
           "#FFA15A",
           "#19d3f3",
           "#FF6692",
           "#B6E880",
           "#FF97FF",
           "#FECB52"
          ],
          "font": {
           "color": "#2a3f5f"
          },
          "geo": {
           "bgcolor": "white",
           "lakecolor": "white",
           "landcolor": "#E5ECF6",
           "showlakes": true,
           "showland": true,
           "subunitcolor": "white"
          },
          "hoverlabel": {
           "align": "left"
          },
          "hovermode": "closest",
          "mapbox": {
           "style": "light"
          },
          "paper_bgcolor": "white",
          "plot_bgcolor": "#E5ECF6",
          "polar": {
           "angularaxis": {
            "gridcolor": "white",
            "linecolor": "white",
            "ticks": ""
           },
           "bgcolor": "#E5ECF6",
           "radialaxis": {
            "gridcolor": "white",
            "linecolor": "white",
            "ticks": ""
           }
          },
          "scene": {
           "xaxis": {
            "backgroundcolor": "#E5ECF6",
            "gridcolor": "white",
            "gridwidth": 2,
            "linecolor": "white",
            "showbackground": true,
            "ticks": "",
            "zerolinecolor": "white"
           },
           "yaxis": {
            "backgroundcolor": "#E5ECF6",
            "gridcolor": "white",
            "gridwidth": 2,
            "linecolor": "white",
            "showbackground": true,
            "ticks": "",
            "zerolinecolor": "white"
           },
           "zaxis": {
            "backgroundcolor": "#E5ECF6",
            "gridcolor": "white",
            "gridwidth": 2,
            "linecolor": "white",
            "showbackground": true,
            "ticks": "",
            "zerolinecolor": "white"
           }
          },
          "shapedefaults": {
           "line": {
            "color": "#2a3f5f"
           }
          },
          "ternary": {
           "aaxis": {
            "gridcolor": "white",
            "linecolor": "white",
            "ticks": ""
           },
           "baxis": {
            "gridcolor": "white",
            "linecolor": "white",
            "ticks": ""
           },
           "bgcolor": "#E5ECF6",
           "caxis": {
            "gridcolor": "white",
            "linecolor": "white",
            "ticks": ""
           }
          },
          "title": {
           "x": 0.05
          },
          "xaxis": {
           "automargin": true,
           "gridcolor": "white",
           "linecolor": "white",
           "ticks": "",
           "title": {
            "standoff": 15
           },
           "zerolinecolor": "white",
           "zerolinewidth": 2
          },
          "yaxis": {
           "automargin": true,
           "gridcolor": "white",
           "linecolor": "white",
           "ticks": "",
           "title": {
            "standoff": 15
           },
           "zerolinecolor": "white",
           "zerolinewidth": 2
          }
         }
        },
        "title": {
         "text": "Proportion of Exited vs Stayed by Gender"
        },
        "xaxis": {
         "anchor": "y",
         "autorange": true,
         "domain": [
          0,
          1
         ],
         "range": [
          -0.5,
          1.5
         ],
         "title": {
          "text": "Gender"
         },
         "type": "category"
        },
        "yaxis": {
         "anchor": "x",
         "autorange": true,
         "domain": [
          0,
          1
         ],
         "range": [
          0,
          1.0526315789473684
         ],
         "tickformat": ".0%",
         "title": {
          "text": "Proportion of Exited vs Stayed by Gender"
         },
         "type": "linear"
        }
       }
      },
      "image/png": "[encoded data removed]"
     },
     "metadata": {},
     "output_type": "display_data"
    },
    {
     "data": {
      "text/html": [
       "<div>\n",
       "<style scoped>\n",
       "    .dataframe tbody tr th:only-of-type {\n",
       "        vertical-align: middle;\n",
       "    }\n",
       "\n",
       "    .dataframe tbody tr th {\n",
       "        vertical-align: top;\n",
       "    }\n",
       "\n",
       "    .dataframe thead th {\n",
       "        text-align: right;\n",
       "    }\n",
       "</style>\n",
       "<table border=\"1\" class=\"dataframe\">\n",
       "  <thead>\n",
       "    <tr style=\"text-align: right;\">\n",
       "      <th></th>\n",
       "      <th>count</th>\n",
       "      <th>Exited</th>\n",
       "      <th>Stayed</th>\n",
       "      <th>Exited%</th>\n",
       "      <th>Stayed%</th>\n",
       "    </tr>\n",
       "    <tr>\n",
       "      <th>Gender</th>\n",
       "      <th></th>\n",
       "      <th></th>\n",
       "      <th></th>\n",
       "      <th></th>\n",
       "      <th></th>\n",
       "    </tr>\n",
       "  </thead>\n",
       "  <tbody>\n",
       "    <tr>\n",
       "      <th>Male</th>\n",
       "      <td>5457</td>\n",
       "      <td>898</td>\n",
       "      <td>4559</td>\n",
       "      <td>0.164559</td>\n",
       "      <td>0.835441</td>\n",
       "    </tr>\n",
       "    <tr>\n",
       "      <th>Female</th>\n",
       "      <td>4543</td>\n",
       "      <td>1139</td>\n",
       "      <td>3404</td>\n",
       "      <td>0.250715</td>\n",
       "      <td>0.749285</td>\n",
       "    </tr>\n",
       "  </tbody>\n",
       "</table>\n",
       "</div>"
      ],
      "text/plain": [
       "        count  Exited  Stayed   Exited%   Stayed%\n",
       "Gender                                           \n",
       "Male     5457     898    4559  0.164559  0.835441\n",
       "Female   4543    1139    3404  0.250715  0.749285"
      ]
     },
     "execution_count": 7,
     "metadata": {},
     "output_type": "execute_result"
    }
   ],
   "source": [
    "gender_counting = count_exited(X_raw, Y, 'Gender')\n",
    "plot_counting('Proporção de churn por gênero', gender_counting)"
   ]
  },
  {
   "cell_type": "markdown",
   "id": "d399d1b6-dc06-4b1d-9351-7e0def292cbd",
   "metadata": {},
   "source": [
    "## Age\n",
    "\n"
   ]
  },
  {
   "cell_type": "code",
   "execution_count": 8,
   "id": "5178186a-b85a-4e8f-81b2-0d65ee311479",
   "metadata": {},
   "outputs": [
    {
     "data": {
      "application/vnd.plotly.v1+json": {
       "config": {
        "plotlyServerURL": "https://plot.ly"
       },
       "data": [
        {
         "fillpattern": {
          "shape": ""
         },
         "hovertemplate": "Status=Exited%<br>Age=%{x}<br>Proportion=%{y}<extra></extra>",
         "legendgroup": "Exited%",
         "line": {
          "color": "#636efa"
         },
         "marker": {
          "symbol": "circle"
         },
         "mode": "lines",
         "name": "Exited%",
         "orientation": "v",
         "showlegend": true,
         "stackgroup": "1",
         "type": "scatter",
         "x": {
          "_inputArray": {
           "0": 37,
           "1": 38,
           "10": 41,
           "11": 29,
           "12": 30,
           "13": 42,
           "14": 43,
           "15": 28,
           "16": 44,
           "17": 45,
           "18": 46,
           "19": 27,
           "2": 35,
           "20": 26,
           "21": 47,
           "22": 48,
           "23": 25,
           "24": 49,
           "25": 50,
           "26": 24,
           "27": 51,
           "28": 52,
           "29": 23,
           "3": 36,
           "30": 22,
           "31": 54,
           "32": 55,
           "33": 57,
           "34": 53,
           "35": 56,
           "36": 58,
           "37": 60,
           "38": 59,
           "39": 61,
           "4": 34,
           "40": 21,
           "41": 62,
           "42": 20,
           "43": 63,
           "44": 64,
           "45": 67,
           "46": 66,
           "47": 71,
           "48": 19,
           "49": 18,
           "5": 33,
           "50": 69,
           "51": 72,
           "52": 68,
           "53": 65,
           "54": 70,
           "55": 74,
           "56": 73,
           "57": 76,
           "58": 77,
           "59": 75,
           "6": 40,
           "60": 78,
           "61": 79,
           "62": 81,
           "63": 80,
           "64": 92,
           "65": 84,
           "66": 82,
           "67": 88,
           "68": 85,
           "69": 83,
           "7": 39,
           "8": 32,
           "9": 31,
           "bdata": "JSYjJCIhKCcgHykdHiorHCwtLhsaLzAZMTIYMzQXFjY3OTU4Ojw7PRU+FD9AQ0JHExJFSERBRkpJTE1LTk9RUFxUUlhVUw==",
           "dtype": "i1",
           "shape": "70"
          },
          "bdata": "JSYjJCIhKCcgHykdHiorHCwtLhsaLzAZMTIYMzQXFjY3OTU4Ojw7PRU+FD9AQ0JHExJFSERBRkpJTE1LTk9RUFxUUlhVUw==",
          "dtype": "i1"
         },
         "xaxis": "x",
         "y": {
          "_inputArray": {
           "0": 0.1297071129707113,
           "1": 0.1320754716981132,
           "10": 0.1885245901639344,
           "11": 0.08045977011494253,
           "12": 0.07339449541284404,
           "13": 0.2398753894080997,
           "14": 0.2962962962962963,
           "15": 0.08424908424908426,
           "16": 0.2840466926070039,
           "17": 0.3799126637554585,
           "18": 0.4026548672566372,
           "19": 0.06220095693779904,
           "2": 0.12025316455696203,
           "20": 0.07,
           "21": 0.44,
           "22": 0.47619047619047616,
           "23": 0.03896103896103896,
           "24": 0.5102040816326531,
           "25": 0.5298507462686567,
           "26": 0.10606060606060606,
           "27": 0.5546218487394958,
           "28": 0.6274509803921569,
           "29": 0.06060606060606061,
           "3": 0.1162280701754386,
           "30": 0.14285714285714285,
           "31": 0.6071428571428571,
           "32": 0.5853658536585366,
           "33": 0.5066666666666667,
           "34": 0.5405405405405406,
           "35": 0.7142857142857143,
           "36": 0.43283582089552236,
           "37": 0.5161290322580645,
           "38": 0.4838709677419355,
           "39": 0.39622641509433965,
           "4": 0.0738255033557047,
           "40": 0.05660377358490566,
           "41": 0.40384615384615385,
           "42": 0.05,
           "43": 0.45,
           "44": 0.32432432432432434,
           "45": 0.13513513513513514,
           "46": 0.2,
           "47": 0.25925925925925924,
           "48": 0.037037037037037035,
           "49": 0.09090909090909091,
           "5": 0.09954751131221719,
           "50": 0.09090909090909091,
           "51": 0.047619047619047616,
           "52": 0.3157894736842105,
           "53": 0.4444444444444444,
           "54": 0.2222222222222222,
           "55": 0.05555555555555555,
           "56": 0.07692307692307693,
           "57": 0,
           "58": 0,
           "59": 0,
           "6": 0.20601851851851852,
           "60": 0,
           "61": 0,
           "62": 0,
           "63": 0,
           "64": 0,
           "65": 0.5,
           "66": 0,
           "67": 0,
           "68": 0,
           "69": 0,
           "7": 0.1702127659574468,
           "8": 0.07655502392344497,
           "9": 0.08168316831683169,
           "bdata": "skYiID6awD+pCcZb2efAP5I9A1HpyL4/EtxHcB/BvT9wA4ZqOuayPxnyexnye7k/7SW0l9Beyj9XEJMriMnFP2N/GCwcmbM/y/CNKDDptD+0eZ/ikiHIPy+QSfECmbQ/oCyBTfvJsj8zwE+cPLTOP2gvob2E9tI/FlmRFVmRtT/SLdIt0i3SP76eijR9UNg/j1Gc6xjF2T8Bz6fHzdivP+xRuB6F67E/KVyPwvUo3D+e53me53neP87KT4iz8qM/FbycgpdT4D+7hV+NifTgPyebbLLJJrs/Una/UXa/4T8UFBQUFBTkPwgffPDBB68/kiRJkiRJwj/btm3btm3jP7sStStRu+I/N9BpA5024D/CFPmsG0zhP7dt27Zt2+Y/NSbSA5Wz2z+EEEIIIYTgP/jee++9994/fg6pCcZb2T8iNcF4K/usP4qd2Imd2Nk/mpmZmZmZqT/NzMzMzMzcPxxMkc+6wdQ/whT5rBtMwT+amZmZmZnJP3sJ7SW0l9A/aC+hvYT2oj9GF1100UW3P0YXXXTRRbc/GIZhGIZhqD9eQ3kN5TXUPxzHcRzHcdw/HMdxHMdxzD8cx3Ecx3GsPxQ7sRM7sbM/AAAAAAAAAAAAAAAAAAAAAAAAAAAAAAAAAAAAAAAAAAAAAAAAAAAAAAAAAAAAAAAAAAAAAAAAAAAAAAAAAAAAAAAAAAAAAOA/AAAAAAAAAAAAAAAAAAAAAAAAAAAAAAAAAAAAAAAAAAA=",
           "dtype": "f8",
           "shape": "70"
          },
          "bdata": "skYiID6awD+pCcZb2efAP5I9A1HpyL4/EtxHcB/BvT9wA4ZqOuayPxnyexnye7k/7SW0l9Beyj9XEJMriMnFP2N/GCwcmbM/y/CNKDDptD+0eZ/ikiHIPy+QSfECmbQ/oCyBTfvJsj8zwE+cPLTOP2gvob2E9tI/FlmRFVmRtT/SLdIt0i3SP76eijR9UNg/j1Gc6xjF2T8Bz6fHzdivP+xRuB6F67E/KVyPwvUo3D+e53me53neP87KT4iz8qM/FbycgpdT4D+7hV+NifTgPyebbLLJJrs/Una/UXa/4T8UFBQUFBTkPwgffPDBB68/kiRJkiRJwj/btm3btm3jP7sStStRu+I/N9BpA5024D/CFPmsG0zhP7dt27Zt2+Y/NSbSA5Wz2z+EEEIIIYTgP/jee++9994/fg6pCcZb2T8iNcF4K/usP4qd2Imd2Nk/mpmZmZmZqT/NzMzMzMzcPxxMkc+6wdQ/whT5rBtMwT+amZmZmZnJP3sJ7SW0l9A/aC+hvYT2oj9GF1100UW3P0YXXXTRRbc/GIZhGIZhqD9eQ3kN5TXUPxzHcRzHcdw/HMdxHMdxzD8cx3Ecx3GsPxQ7sRM7sbM/AAAAAAAAAAAAAAAAAAAAAAAAAAAAAAAAAAAAAAAAAAAAAAAAAAAAAAAAAAAAAAAAAAAAAAAAAAAAAAAAAAAAAAAAAAAAAOA/AAAAAAAAAAAAAAAAAAAAAAAAAAAAAAAAAAAAAAAAAAA=",
          "dtype": "f8"
         },
         "yaxis": "y"
        },
        {
         "fillpattern": {
          "shape": ""
         },
         "hovertemplate": "Status=Stayed%<br>Age=%{x}<br>Proportion=%{y}<extra></extra>",
         "legendgroup": "Stayed%",
         "line": {
          "color": "#EF553B"
         },
         "marker": {
          "symbol": "circle"
         },
         "mode": "lines",
         "name": "Stayed%",
         "orientation": "v",
         "showlegend": true,
         "stackgroup": "1",
         "type": "scatter",
         "x": {
          "_inputArray": {
           "0": 37,
           "1": 38,
           "10": 41,
           "11": 29,
           "12": 30,
           "13": 42,
           "14": 43,
           "15": 28,
           "16": 44,
           "17": 45,
           "18": 46,
           "19": 27,
           "2": 35,
           "20": 26,
           "21": 47,
           "22": 48,
           "23": 25,
           "24": 49,
           "25": 50,
           "26": 24,
           "27": 51,
           "28": 52,
           "29": 23,
           "3": 36,
           "30": 22,
           "31": 54,
           "32": 55,
           "33": 57,
           "34": 53,
           "35": 56,
           "36": 58,
           "37": 60,
           "38": 59,
           "39": 61,
           "4": 34,
           "40": 21,
           "41": 62,
           "42": 20,
           "43": 63,
           "44": 64,
           "45": 67,
           "46": 66,
           "47": 71,
           "48": 19,
           "49": 18,
           "5": 33,
           "50": 69,
           "51": 72,
           "52": 68,
           "53": 65,
           "54": 70,
           "55": 74,
           "56": 73,
           "57": 76,
           "58": 77,
           "59": 75,
           "6": 40,
           "60": 78,
           "61": 79,
           "62": 81,
           "63": 80,
           "64": 92,
           "65": 84,
           "66": 82,
           "67": 88,
           "68": 85,
           "69": 83,
           "7": 39,
           "8": 32,
           "9": 31,
           "bdata": "JSYjJCIhKCcgHykdHiorHCwtLhsaLzAZMTIYMzQXFjY3OTU4Ojw7PRU+FD9AQ0JHExJFSERBRkpJTE1LTk9RUFxUUlhVUw==",
           "dtype": "i1",
           "shape": "70"
          },
          "bdata": "JSYjJCIhKCcgHykdHiorHCwtLhsaLzAZMTIYMzQXFjY3OTU4Ojw7PRU+FD9AQ0JHExJFSERBRkpJTE1LTk9RUFxUUlhVUw==",
          "dtype": "i1"
         },
         "xaxis": "x",
         "y": {
          "_inputArray": {
           "0": 0.8702928870292888,
           "1": 0.8679245283018868,
           "10": 0.8114754098360656,
           "11": 0.9195402298850575,
           "12": 0.926605504587156,
           "13": 0.7601246105919003,
           "14": 0.7037037037037037,
           "15": 0.9157509157509157,
           "16": 0.7159533073929961,
           "17": 0.6200873362445415,
           "18": 0.5973451327433629,
           "19": 0.937799043062201,
           "2": 0.879746835443038,
           "20": 0.93,
           "21": 0.56,
           "22": 0.5238095238095238,
           "23": 0.961038961038961,
           "24": 0.4897959183673469,
           "25": 0.4701492537313433,
           "26": 0.8939393939393939,
           "27": 0.44537815126050423,
           "28": 0.37254901960784315,
           "29": 0.9393939393939394,
           "3": 0.8837719298245614,
           "30": 0.8571428571428571,
           "31": 0.39285714285714285,
           "32": 0.4146341463414634,
           "33": 0.49333333333333335,
           "34": 0.4594594594594595,
           "35": 0.2857142857142857,
           "36": 0.5671641791044776,
           "37": 0.4838709677419355,
           "38": 0.5161290322580645,
           "39": 0.6037735849056604,
           "4": 0.9261744966442953,
           "40": 0.9433962264150944,
           "41": 0.5961538461538461,
           "42": 0.95,
           "43": 0.55,
           "44": 0.6756756756756757,
           "45": 0.8648648648648649,
           "46": 0.8,
           "47": 0.7407407407407407,
           "48": 0.9629629629629629,
           "49": 0.9090909090909091,
           "5": 0.9004524886877828,
           "50": 0.9090909090909091,
           "51": 0.9523809523809523,
           "52": 0.6842105263157895,
           "53": 0.5555555555555556,
           "54": 0.7777777777777778,
           "55": 0.9444444444444444,
           "56": 0.9230769230769231,
           "57": 1,
           "58": 1,
           "59": 1,
           "6": 0.7939814814814815,
           "60": 1,
           "61": 1,
           "62": 1,
           "63": 1,
           "64": 1,
           "65": 0.5,
           "66": 1,
           "67": 1,
           "68": 1,
           "69": 1,
           "7": 0.8297872340425532,
           "8": 0.9234449760765551,
           "9": 0.9183168316831684,
           "bdata": "VG73d3DZ6z+WfQ6pCcbrP06Y39XiJuw/fgT3EdxH7D+SP6+yOKPtP72B0LyB0Ow/hfYS2kto6T/qOxv1nY3qPxTwfHrcjO0/50Hu+tli7T+TIVhHm/fpP/rN1qHfbO0/bNpPlsCm7T/zD+zY8FLoP0xoL6G9hOY/3dRN3dRN7T8X6RbpFunmP6GwumXB1+M/OdcxinMd4z8Qg4UjcwLuP8P1KFyPwu0/7FG4HoXr4T8xDMMwDMPgP1MDe8fUwO4/1ofG+tBY3z+K9EDl7BbeP5tssskmm+w/XROBXBOB3D/Y19fX19fXPxA++OCDD+4/27Zt27Zt6z9JkiRJkiTZP4nalahdido/k18s+cWS3z991g2myGfdP5IkSZIkSdI/5ewWfjUm4j/43nvvvffeP4QQQgghhOA/wXgr+xxS4z+u7HNITTDuPzuxEzuxE+M/ZmZmZmZm7j+amZmZmZnhP/JZN5gin+U/0LrBFPms6z+amZmZmZnpP0J7Ce0ltOc/Ce0ltJfQ7j8XXXTRRRftPxdddNFFF+0/nud5nud57j9RXkN5DeXlP3Icx3Ecx+E/OY7jOI7j6D+O4ziO4zjuP57YiZ3Yie0/AAAAAAAA8D8AAAAAAADwPwAAAAAAAPA/AAAAAAAA8D8AAAAAAADwPwAAAAAAAPA/AAAAAAAA8D8AAAAAAADwPwAAAAAAAOA/AAAAAAAA8D8AAAAAAADwPwAAAAAAAPA/AAAAAAAA8D8=",
           "dtype": "f8",
           "shape": "70"
          },
          "bdata": "VG73d3DZ6z+WfQ6pCcbrP06Y39XiJuw/fgT3EdxH7D+SP6+yOKPtP72B0LyB0Ow/hfYS2kto6T/qOxv1nY3qPxTwfHrcjO0/50Hu+tli7T+TIVhHm/fpP/rN1qHfbO0/bNpPlsCm7T/zD+zY8FLoP0xoL6G9hOY/3dRN3dRN7T8X6RbpFunmP6GwumXB1+M/OdcxinMd4z8Qg4UjcwLuP8P1KFyPwu0/7FG4HoXr4T8xDMMwDMPgP1MDe8fUwO4/1ofG+tBY3z+K9EDl7BbeP5tssskmm+w/XROBXBOB3D/Y19fX19fXPxA++OCDD+4/27Zt27Zt6z9JkiRJkiTZP4nalahdido/k18s+cWS3z991g2myGfdP5IkSZIkSdI/5ewWfjUm4j/43nvvvffeP4QQQgghhOA/wXgr+xxS4z+u7HNITTDuPzuxEzuxE+M/ZmZmZmZm7j+amZmZmZnhP/JZN5gin+U/0LrBFPms6z+amZmZmZnpP0J7Ce0ltOc/Ce0ltJfQ7j8XXXTRRRftPxdddNFFF+0/nud5nud57j9RXkN5DeXlP3Icx3Ecx+E/OY7jOI7j6D+O4ziO4zjuP57YiZ3Yie0/AAAAAAAA8D8AAAAAAADwPwAAAAAAAPA/AAAAAAAA8D8AAAAAAADwPwAAAAAAAPA/AAAAAAAA8D8AAAAAAADwPwAAAAAAAOA/AAAAAAAA8D8AAAAAAADwPwAAAAAAAPA/AAAAAAAA8D8=",
          "dtype": "f8"
         },
         "yaxis": "y"
        }
       ],
       "layout": {
        "autosize": true,
        "hovermode": "x unified",
        "legend": {
         "title": {
          "text": "Status"
         },
         "tracegroupgap": 0
        },
        "template": {
         "data": {
          "bar": [
           {
            "error_x": {
             "color": "#2a3f5f"
            },
            "error_y": {
             "color": "#2a3f5f"
            },
            "marker": {
             "line": {
              "color": "#E5ECF6",
              "width": 0.5
             },
             "pattern": {
              "fillmode": "overlay",
              "size": 10,
              "solidity": 0.2
             }
            },
            "type": "bar"
           }
          ],
          "barpolar": [
           {
            "marker": {
             "line": {
              "color": "#E5ECF6",
              "width": 0.5
             },
             "pattern": {
              "fillmode": "overlay",
              "size": 10,
              "solidity": 0.2
             }
            },
            "type": "barpolar"
           }
          ],
          "carpet": [
           {
            "aaxis": {
             "endlinecolor": "#2a3f5f",
             "gridcolor": "white",
             "linecolor": "white",
             "minorgridcolor": "white",
             "startlinecolor": "#2a3f5f"
            },
            "baxis": {
             "endlinecolor": "#2a3f5f",
             "gridcolor": "white",
             "linecolor": "white",
             "minorgridcolor": "white",
             "startlinecolor": "#2a3f5f"
            },
            "type": "carpet"
           }
          ],
          "choropleth": [
           {
            "colorbar": {
             "outlinewidth": 0,
             "ticks": ""
            },
            "type": "choropleth"
           }
          ],
          "contour": [
           {
            "colorbar": {
             "outlinewidth": 0,
             "ticks": ""
            },
            "colorscale": [
             [
              0,
              "#0d0887"
             ],
             [
              0.1111111111111111,
              "#46039f"
             ],
             [
              0.2222222222222222,
              "#7201a8"
             ],
             [
              0.3333333333333333,
              "#9c179e"
             ],
             [
              0.4444444444444444,
              "#bd3786"
             ],
             [
              0.5555555555555556,
              "#d8576b"
             ],
             [
              0.6666666666666666,
              "#ed7953"
             ],
             [
              0.7777777777777778,
              "#fb9f3a"
             ],
             [
              0.8888888888888888,
              "#fdca26"
             ],
             [
              1,
              "#f0f921"
             ]
            ],
            "type": "contour"
           }
          ],
          "contourcarpet": [
           {
            "colorbar": {
             "outlinewidth": 0,
             "ticks": ""
            },
            "type": "contourcarpet"
           }
          ],
          "heatmap": [
           {
            "colorbar": {
             "outlinewidth": 0,
             "ticks": ""
            },
            "colorscale": [
             [
              0,
              "#0d0887"
             ],
             [
              0.1111111111111111,
              "#46039f"
             ],
             [
              0.2222222222222222,
              "#7201a8"
             ],
             [
              0.3333333333333333,
              "#9c179e"
             ],
             [
              0.4444444444444444,
              "#bd3786"
             ],
             [
              0.5555555555555556,
              "#d8576b"
             ],
             [
              0.6666666666666666,
              "#ed7953"
             ],
             [
              0.7777777777777778,
              "#fb9f3a"
             ],
             [
              0.8888888888888888,
              "#fdca26"
             ],
             [
              1,
              "#f0f921"
             ]
            ],
            "type": "heatmap"
           }
          ],
          "histogram": [
           {
            "marker": {
             "pattern": {
              "fillmode": "overlay",
              "size": 10,
              "solidity": 0.2
             }
            },
            "type": "histogram"
           }
          ],
          "histogram2d": [
           {
            "colorbar": {
             "outlinewidth": 0,
             "ticks": ""
            },
            "colorscale": [
             [
              0,
              "#0d0887"
             ],
             [
              0.1111111111111111,
              "#46039f"
             ],
             [
              0.2222222222222222,
              "#7201a8"
             ],
             [
              0.3333333333333333,
              "#9c179e"
             ],
             [
              0.4444444444444444,
              "#bd3786"
             ],
             [
              0.5555555555555556,
              "#d8576b"
             ],
             [
              0.6666666666666666,
              "#ed7953"
             ],
             [
              0.7777777777777778,
              "#fb9f3a"
             ],
             [
              0.8888888888888888,
              "#fdca26"
             ],
             [
              1,
              "#f0f921"
             ]
            ],
            "type": "histogram2d"
           }
          ],
          "histogram2dcontour": [
           {
            "colorbar": {
             "outlinewidth": 0,
             "ticks": ""
            },
            "colorscale": [
             [
              0,
              "#0d0887"
             ],
             [
              0.1111111111111111,
              "#46039f"
             ],
             [
              0.2222222222222222,
              "#7201a8"
             ],
             [
              0.3333333333333333,
              "#9c179e"
             ],
             [
              0.4444444444444444,
              "#bd3786"
             ],
             [
              0.5555555555555556,
              "#d8576b"
             ],
             [
              0.6666666666666666,
              "#ed7953"
             ],
             [
              0.7777777777777778,
              "#fb9f3a"
             ],
             [
              0.8888888888888888,
              "#fdca26"
             ],
             [
              1,
              "#f0f921"
             ]
            ],
            "type": "histogram2dcontour"
           }
          ],
          "mesh3d": [
           {
            "colorbar": {
             "outlinewidth": 0,
             "ticks": ""
            },
            "type": "mesh3d"
           }
          ],
          "parcoords": [
           {
            "line": {
             "colorbar": {
              "outlinewidth": 0,
              "ticks": ""
             }
            },
            "type": "parcoords"
           }
          ],
          "pie": [
           {
            "automargin": true,
            "type": "pie"
           }
          ],
          "scatter": [
           {
            "fillpattern": {
             "fillmode": "overlay",
             "size": 10,
             "solidity": 0.2
            },
            "type": "scatter"
           }
          ],
          "scatter3d": [
           {
            "line": {
             "colorbar": {
              "outlinewidth": 0,
              "ticks": ""
             }
            },
            "marker": {
             "colorbar": {
              "outlinewidth": 0,
              "ticks": ""
             }
            },
            "type": "scatter3d"
           }
          ],
          "scattercarpet": [
           {
            "marker": {
             "colorbar": {
              "outlinewidth": 0,
              "ticks": ""
             }
            },
            "type": "scattercarpet"
           }
          ],
          "scattergeo": [
           {
            "marker": {
             "colorbar": {
              "outlinewidth": 0,
              "ticks": ""
             }
            },
            "type": "scattergeo"
           }
          ],
          "scattergl": [
           {
            "marker": {
             "colorbar": {
              "outlinewidth": 0,
              "ticks": ""
             }
            },
            "type": "scattergl"
           }
          ],
          "scattermap": [
           {
            "marker": {
             "colorbar": {
              "outlinewidth": 0,
              "ticks": ""
             }
            },
            "type": "scattermap"
           }
          ],
          "scattermapbox": [
           {
            "marker": {
             "colorbar": {
              "outlinewidth": 0,
              "ticks": ""
             }
            },
            "type": "scattermapbox"
           }
          ],
          "scatterpolar": [
           {
            "marker": {
             "colorbar": {
              "outlinewidth": 0,
              "ticks": ""
             }
            },
            "type": "scatterpolar"
           }
          ],
          "scatterpolargl": [
           {
            "marker": {
             "colorbar": {
              "outlinewidth": 0,
              "ticks": ""
             }
            },
            "type": "scatterpolargl"
           }
          ],
          "scatterternary": [
           {
            "marker": {
             "colorbar": {
              "outlinewidth": 0,
              "ticks": ""
             }
            },
            "type": "scatterternary"
           }
          ],
          "surface": [
           {
            "colorbar": {
             "outlinewidth": 0,
             "ticks": ""
            },
            "colorscale": [
             [
              0,
              "#0d0887"
             ],
             [
              0.1111111111111111,
              "#46039f"
             ],
             [
              0.2222222222222222,
              "#7201a8"
             ],
             [
              0.3333333333333333,
              "#9c179e"
             ],
             [
              0.4444444444444444,
              "#bd3786"
             ],
             [
              0.5555555555555556,
              "#d8576b"
             ],
             [
              0.6666666666666666,
              "#ed7953"
             ],
             [
              0.7777777777777778,
              "#fb9f3a"
             ],
             [
              0.8888888888888888,
              "#fdca26"
             ],
             [
              1,
              "#f0f921"
             ]
            ],
            "type": "surface"
           }
          ],
          "table": [
           {
            "cells": {
             "fill": {
              "color": "#EBF0F8"
             },
             "line": {
              "color": "white"
             }
            },
            "header": {
             "fill": {
              "color": "#C8D4E3"
             },
             "line": {
              "color": "white"
             }
            },
            "type": "table"
           }
          ]
         },
         "layout": {
          "annotationdefaults": {
           "arrowcolor": "#2a3f5f",
           "arrowhead": 0,
           "arrowwidth": 1
          },
          "autotypenumbers": "strict",
          "coloraxis": {
           "colorbar": {
            "outlinewidth": 0,
            "ticks": ""
           }
          },
          "colorscale": {
           "diverging": [
            [
             0,
             "#8e0152"
            ],
            [
             0.1,
             "#c51b7d"
            ],
            [
             0.2,
             "#de77ae"
            ],
            [
             0.3,
             "#f1b6da"
            ],
            [
             0.4,
             "#fde0ef"
            ],
            [
             0.5,
             "#f7f7f7"
            ],
            [
             0.6,
             "#e6f5d0"
            ],
            [
             0.7,
             "#b8e186"
            ],
            [
             0.8,
             "#7fbc41"
            ],
            [
             0.9,
             "#4d9221"
            ],
            [
             1,
             "#276419"
            ]
           ],
           "sequential": [
            [
             0,
             "#0d0887"
            ],
            [
             0.1111111111111111,
             "#46039f"
            ],
            [
             0.2222222222222222,
             "#7201a8"
            ],
            [
             0.3333333333333333,
             "#9c179e"
            ],
            [
             0.4444444444444444,
             "#bd3786"
            ],
            [
             0.5555555555555556,
             "#d8576b"
            ],
            [
             0.6666666666666666,
             "#ed7953"
            ],
            [
             0.7777777777777778,
             "#fb9f3a"
            ],
            [
             0.8888888888888888,
             "#fdca26"
            ],
            [
             1,
             "#f0f921"
            ]
           ],
           "sequentialminus": [
            [
             0,
             "#0d0887"
            ],
            [
             0.1111111111111111,
             "#46039f"
            ],
            [
             0.2222222222222222,
             "#7201a8"
            ],
            [
             0.3333333333333333,
             "#9c179e"
            ],
            [
             0.4444444444444444,
             "#bd3786"
            ],
            [
             0.5555555555555556,
             "#d8576b"
            ],
            [
             0.6666666666666666,
             "#ed7953"
            ],
            [
             0.7777777777777778,
             "#fb9f3a"
            ],
            [
             0.8888888888888888,
             "#fdca26"
            ],
            [
             1,
             "#f0f921"
            ]
           ]
          },
          "colorway": [
           "#636efa",
           "#EF553B",
           "#00cc96",
           "#ab63fa",
           "#FFA15A",
           "#19d3f3",
           "#FF6692",
           "#B6E880",
           "#FF97FF",
           "#FECB52"
          ],
          "font": {
           "color": "#2a3f5f"
          },
          "geo": {
           "bgcolor": "white",
           "lakecolor": "white",
           "landcolor": "#E5ECF6",
           "showlakes": true,
           "showland": true,
           "subunitcolor": "white"
          },
          "hoverlabel": {
           "align": "left"
          },
          "hovermode": "closest",
          "mapbox": {
           "style": "light"
          },
          "paper_bgcolor": "white",
          "plot_bgcolor": "#E5ECF6",
          "polar": {
           "angularaxis": {
            "gridcolor": "white",
            "linecolor": "white",
            "ticks": ""
           },
           "bgcolor": "#E5ECF6",
           "radialaxis": {
            "gridcolor": "white",
            "linecolor": "white",
            "ticks": ""
           }
          },
          "scene": {
           "xaxis": {
            "backgroundcolor": "#E5ECF6",
            "gridcolor": "white",
            "gridwidth": 2,
            "linecolor": "white",
            "showbackground": true,
            "ticks": "",
            "zerolinecolor": "white"
           },
           "yaxis": {
            "backgroundcolor": "#E5ECF6",
            "gridcolor": "white",
            "gridwidth": 2,
            "linecolor": "white",
            "showbackground": true,
            "ticks": "",
            "zerolinecolor": "white"
           },
           "zaxis": {
            "backgroundcolor": "#E5ECF6",
            "gridcolor": "white",
            "gridwidth": 2,
            "linecolor": "white",
            "showbackground": true,
            "ticks": "",
            "zerolinecolor": "white"
           }
          },
          "shapedefaults": {
           "line": {
            "color": "#2a3f5f"
           }
          },
          "ternary": {
           "aaxis": {
            "gridcolor": "white",
            "linecolor": "white",
            "ticks": ""
           },
           "baxis": {
            "gridcolor": "white",
            "linecolor": "white",
            "ticks": ""
           },
           "bgcolor": "#E5ECF6",
           "caxis": {
            "gridcolor": "white",
            "linecolor": "white",
            "ticks": ""
           }
          },
          "title": {
           "x": 0.05
          },
          "xaxis": {
           "automargin": true,
           "gridcolor": "white",
           "linecolor": "white",
           "ticks": "",
           "title": {
            "standoff": 15
           },
           "zerolinecolor": "white",
           "zerolinewidth": 2
          },
          "yaxis": {
           "automargin": true,
           "gridcolor": "white",
           "linecolor": "white",
           "ticks": "",
           "title": {
            "standoff": 15
           },
           "zerolinecolor": "white",
           "zerolinewidth": 2
          }
         }
        },
        "title": {
         "text": "Proportion of Exited vs Stayed by Age"
        },
        "xaxis": {
         "anchor": "y",
         "autorange": true,
         "domain": [
          0,
          1
         ],
         "range": [
          18,
          92
         ],
         "title": {
          "text": "Age"
         },
         "type": "linear"
        },
        "yaxis": {
         "anchor": "x",
         "autorange": true,
         "domain": [
          0,
          1
         ],
         "range": [
          0,
          1.0526315789473684
         ],
         "tickformat": ".0%",
         "title": {
          "text": "Proportion of Exited vs Stayed by Age"
         },
         "type": "linear"
        }
       }
      },
      "image/png": "[encoded data removed]"
     },
     "metadata": {},
     "output_type": "display_data"
    }
   ],
   "source": [
    "age_counting = count_exited(X_raw, Y, 'Age')\n",
    "_ = plot_counting('Proporção de churn por idade', age_counting, format='area')"
   ]
  },
  {
   "cell_type": "markdown",
   "id": "bf5acbee-a3da-41f3-bf7f-0395c6f72279",
   "metadata": {},
   "source": [
    "Notamos que a proporção tende a ter uma forma normal ligeiramente viesada para a esquerda, exceto por um pico outlier causado na idade de 84 anos, quando há apenas dois clientes, e um deles saiu:"
   ]
  },
  {
   "cell_type": "code",
   "execution_count": 9,
   "id": "b32d052b-6afb-4189-b618-b4e081eb3cc6",
   "metadata": {},
   "outputs": [
    {
     "data": {
      "text/html": [
       "<div>\n",
       "<style scoped>\n",
       "    .dataframe tbody tr th:only-of-type {\n",
       "        vertical-align: middle;\n",
       "    }\n",
       "\n",
       "    .dataframe tbody tr th {\n",
       "        vertical-align: top;\n",
       "    }\n",
       "\n",
       "    .dataframe thead th {\n",
       "        text-align: right;\n",
       "    }\n",
       "</style>\n",
       "<table border=\"1\" class=\"dataframe\">\n",
       "  <thead>\n",
       "    <tr style=\"text-align: right;\">\n",
       "      <th></th>\n",
       "      <th>CreditScore</th>\n",
       "      <th>Geography</th>\n",
       "      <th>Gender</th>\n",
       "      <th>Age</th>\n",
       "      <th>Tenure</th>\n",
       "      <th>Balance</th>\n",
       "      <th>NumOfProducts</th>\n",
       "      <th>HasCrCard</th>\n",
       "      <th>IsActiveMember</th>\n",
       "      <th>EstimatedSalary</th>\n",
       "    </tr>\n",
       "  </thead>\n",
       "  <tbody>\n",
       "    <tr>\n",
       "      <th>3387</th>\n",
       "      <td>537</td>\n",
       "      <td>Germany</td>\n",
       "      <td>Male</td>\n",
       "      <td>84</td>\n",
       "      <td>8</td>\n",
       "      <td>92242.34</td>\n",
       "      <td>1</td>\n",
       "      <td>1</td>\n",
       "      <td>1</td>\n",
       "      <td>186235.98</td>\n",
       "    </tr>\n",
       "    <tr>\n",
       "      <th>3531</th>\n",
       "      <td>408</td>\n",
       "      <td>France</td>\n",
       "      <td>Female</td>\n",
       "      <td>84</td>\n",
       "      <td>8</td>\n",
       "      <td>87873.39</td>\n",
       "      <td>1</td>\n",
       "      <td>0</td>\n",
       "      <td>0</td>\n",
       "      <td>188484.52</td>\n",
       "    </tr>\n",
       "  </tbody>\n",
       "</table>\n",
       "</div>"
      ],
      "text/plain": [
       "      CreditScore Geography  Gender  Age  Tenure   Balance  NumOfProducts  \\\n",
       "3387          537   Germany    Male   84       8  92242.34              1   \n",
       "3531          408    France  Female   84       8  87873.39              1   \n",
       "\n",
       "      HasCrCard  IsActiveMember  EstimatedSalary  \n",
       "3387          1               1        186235.98  \n",
       "3531          0               0        188484.52  "
      ]
     },
     "execution_count": 9,
     "metadata": {},
     "output_type": "execute_result"
    }
   ],
   "source": [
    "X_raw[X_raw['Age']==84]"
   ]
  },
  {
   "cell_type": "markdown",
   "id": "69bb4317-5e99-4bca-92cc-e898671b910a",
   "metadata": {},
   "source": [
    "Como o outlier afeta a regressão? Vamos fazer um teste de regressão logística com e sem outlier:"
   ]
  },
  {
   "cell_type": "code",
   "execution_count": 10,
   "id": "bcb109e4-919a-4687-b067-a55a312b3bb0",
   "metadata": {},
   "outputs": [
    {
     "name": "stdout",
     "output_type": "stream",
     "text": [
      "Full dataset:\n",
      "const   -3.928603\n",
      "Age      0.062945\n",
      "dtype: float64\n",
      "Alt dataset:\n",
      "const   -3.934058\n",
      "Age      0.063084\n",
      "dtype: float64\n",
      "AUC full: 0.7320707498986938\n",
      "AUC alt: 0.7320313606526877\n"
     ]
    }
   ],
   "source": [
    "import statsmodels.api as sm\n",
    "from sklearn.metrics import roc_auc_score\n",
    "import textwrap\n",
    "\n",
    "\n",
    "def compare_models(X, Y, X_prime, Y_prime):\n",
    "    full_model = sm.Logit(Y, X).fit(disp=False)\n",
    "    alternative_model = sm.Logit(Y_prime, X_prime).fit(disp=False)\n",
    "\n",
    "    print(\n",
    "        'Full dataset:', full_model.params,\n",
    "        'Alt dataset:', alternative_model.params,\n",
    "        sep='\\n'\n",
    "    )\n",
    "\n",
    "    full_prediction = full_model.predict(X)\n",
    "    alternative_prediction = alternative_model.predict(X_prime)\n",
    "    print(\"AUC full:\", roc_auc_score(Y, full_prediction))\n",
    "    print(\"AUC alt:\", roc_auc_score(Y_prime, alternative_prediction))\n",
    "    return full_model, alternative_model\n",
    "\n",
    "def compare_outlier(X, Y, factor, outliers):\n",
    "    F = sm.add_constant(X[factor])\n",
    "    full_model = sm.Logit(Y, F).fit(disp=False)\n",
    "\n",
    "    F_prime = F[~(F[factor].isin(outliers))]\n",
    "    Y_prime = Y[~(F[factor].isin(outliers))]\n",
    "    return compare_models(F, Y, F_prime, Y_prime)\n",
    "\n",
    "\n",
    "_ = compare_outlier(X, Y, 'Age', outliers=[84])"
   ]
  },
  {
   "cell_type": "markdown",
   "id": "f75da2d0-3b38-4fd2-aed2-2926c6ad48dd",
   "metadata": {},
   "source": [
    "O outlier claramente não afetou drasticamente o modelo, de modo que acreditamos não ser necessário removê-lo.\n",
    "\n",
    "## Tenure\n",
    "\n",
    "Antes de investigarmos o tempo de conta (\"tenure\"), vamos verificar um ponto importante. Idade e tempo de conta têm o potencial de terem alta colinearidade. Como são apenas dois valores, demos verificar isso de maneira simples, observando a matriz de correlação:"
   ]
  },
  {
   "cell_type": "code",
   "execution_count": 11,
   "id": "94a9643c-c0a7-4fe9-a8ed-2e918383879f",
   "metadata": {},
   "outputs": [
    {
     "data": {
      "text/html": [
       "<div>\n",
       "<style scoped>\n",
       "    .dataframe tbody tr th:only-of-type {\n",
       "        vertical-align: middle;\n",
       "    }\n",
       "\n",
       "    .dataframe tbody tr th {\n",
       "        vertical-align: top;\n",
       "    }\n",
       "\n",
       "    .dataframe thead th {\n",
       "        text-align: right;\n",
       "    }\n",
       "</style>\n",
       "<table border=\"1\" class=\"dataframe\">\n",
       "  <thead>\n",
       "    <tr style=\"text-align: right;\">\n",
       "      <th></th>\n",
       "      <th>Age</th>\n",
       "      <th>Tenure</th>\n",
       "    </tr>\n",
       "  </thead>\n",
       "  <tbody>\n",
       "    <tr>\n",
       "      <th>Age</th>\n",
       "      <td>1.000000</td>\n",
       "      <td>-0.009997</td>\n",
       "    </tr>\n",
       "    <tr>\n",
       "      <th>Tenure</th>\n",
       "      <td>-0.009997</td>\n",
       "      <td>1.000000</td>\n",
       "    </tr>\n",
       "  </tbody>\n",
       "</table>\n",
       "</div>"
      ],
      "text/plain": [
       "             Age    Tenure\n",
       "Age     1.000000 -0.009997\n",
       "Tenure -0.009997  1.000000"
      ]
     },
     "execution_count": 11,
     "metadata": {},
     "output_type": "execute_result"
    }
   ],
   "source": [
    "X_raw[['Age', 'Tenure']].corr()"
   ]
  },
  {
   "cell_type": "markdown",
   "id": "970ddd51-44b6-4076-b573-6624c462ee15",
   "metadata": {},
   "source": [
    "Os valores de correlação entre eles são bem baixos ($9.9 \\times 10^{-3}$), então não nos preocuparemos com isso: consideraremos ambos não lineares entre si.\n",
    "\n",
    "Como é o comportamento de churn para os vários valores de tenure? Vejamos no gráfico da proporção de clientes:"
   ]
  },
  {
   "cell_type": "code",
   "execution_count": 12,
   "id": "1d344597-42e3-49d8-b2f2-4f63b2b4b1ab",
   "metadata": {},
   "outputs": [
    {
     "data": {
      "application/vnd.plotly.v1+json": {
       "config": {
        "plotlyServerURL": "https://plot.ly"
       },
       "data": [
        {
         "fillpattern": {
          "shape": ""
         },
         "hovertemplate": "Status=Exited%<br>Tenure=%{x}<br>Proportion=%{y}<extra></extra>",
         "legendgroup": "Exited%",
         "line": {
          "color": "#636efa"
         },
         "marker": {
          "symbol": "circle"
         },
         "mode": "lines",
         "name": "Exited%",
         "orientation": "v",
         "showlegend": true,
         "stackgroup": "1",
         "type": "scatter",
         "x": {
          "_inputArray": {
           "0": 2,
           "1": 1,
           "10": 0,
           "2": 7,
           "3": 8,
           "4": 5,
           "5": 3,
           "6": 4,
           "7": 9,
           "8": 6,
           "9": 10,
           "bdata": "AgEHCAUDBAkGCgA=",
           "dtype": "i1",
           "shape": "11"
          },
          "bdata": "AgEHCAUDBAkGCgA=",
          "dtype": "i1"
         },
         "xaxis": "x",
         "y": {
          "_inputArray": {
           "0": 0.191793893129771,
           "1": 0.22415458937198068,
           "10": 0.23002421307506055,
           "2": 0.17217898832684825,
           "3": 0.19219512195121952,
           "4": 0.20652173913043478,
           "5": 0.21110009910802774,
           "6": 0.20525783619817997,
           "7": 0.21646341463414634,
           "8": 0.20268872802481902,
           "9": 0.20612244897959184,
           "bdata": "K05IybOMyD927Ez7GLHMP/YJ9gn2CcY/mpididmZyD+nN73pTW/KP6T47PpTBcs/LQXchuNFyj+1K1G7ErXLPzY1EUm08ck//1yrbDhiyj/SBjn0bnHNPw==",
           "dtype": "f8",
           "shape": "11"
          },
          "bdata": "K05IybOMyD927Ez7GLHMP/YJ9gn2CcY/mpididmZyD+nN73pTW/KP6T47PpTBcs/LQXchuNFyj+1K1G7ErXLPzY1EUm08ck//1yrbDhiyj/SBjn0bnHNPw==",
          "dtype": "f8"
         },
         "yaxis": "y"
        },
        {
         "fillpattern": {
          "shape": ""
         },
         "hovertemplate": "Status=Stayed%<br>Tenure=%{x}<br>Proportion=%{y}<extra></extra>",
         "legendgroup": "Stayed%",
         "line": {
          "color": "#EF553B"
         },
         "marker": {
          "symbol": "circle"
         },
         "mode": "lines",
         "name": "Stayed%",
         "orientation": "v",
         "showlegend": true,
         "stackgroup": "1",
         "type": "scatter",
         "x": {
          "_inputArray": {
           "0": 2,
           "1": 1,
           "10": 0,
           "2": 7,
           "3": 8,
           "4": 5,
           "5": 3,
           "6": 4,
           "7": 9,
           "8": 6,
           "9": 10,
           "bdata": "AgEHCAUDBAkGCgA=",
           "dtype": "i1",
           "shape": "11"
          },
          "bdata": "AgEHCAUDBAkGCgA=",
          "dtype": "i1"
         },
         "xaxis": "x",
         "y": {
          "_inputArray": {
           "0": 0.808206106870229,
           "1": 0.7758454106280194,
           "10": 0.7699757869249395,
           "2": 0.8278210116731517,
           "3": 0.8078048780487805,
           "4": 0.7934782608695652,
           "5": 0.7888999008919723,
           "6": 0.7947421638018201,
           "7": 0.7835365853658537,
           "8": 0.7973112719751809,
           "9": 0.7938775510204081,
           "bdata": "deytDdPc6T/jxCzBudPoP4J9gn2Cfeo/2pmYnYnZ6T8WspCFLGTpP9fBRAGrPuk/tf5IHodu6T8TtStRuxLpP7Kyu+2Sg+k/wCjV5HFn6T9MvvFCpKPoPw==",
           "dtype": "f8",
           "shape": "11"
          },
          "bdata": "deytDdPc6T/jxCzBudPoP4J9gn2Cfeo/2pmYnYnZ6T8WspCFLGTpP9fBRAGrPuk/tf5IHodu6T8TtStRuxLpP7Kyu+2Sg+k/wCjV5HFn6T9MvvFCpKPoPw==",
          "dtype": "f8"
         },
         "yaxis": "y"
        }
       ],
       "layout": {
        "autosize": true,
        "hovermode": "x unified",
        "legend": {
         "title": {
          "text": "Status"
         },
         "tracegroupgap": 0
        },
        "template": {
         "data": {
          "bar": [
           {
            "error_x": {
             "color": "#2a3f5f"
            },
            "error_y": {
             "color": "#2a3f5f"
            },
            "marker": {
             "line": {
              "color": "#E5ECF6",
              "width": 0.5
             },
             "pattern": {
              "fillmode": "overlay",
              "size": 10,
              "solidity": 0.2
             }
            },
            "type": "bar"
           }
          ],
          "barpolar": [
           {
            "marker": {
             "line": {
              "color": "#E5ECF6",
              "width": 0.5
             },
             "pattern": {
              "fillmode": "overlay",
              "size": 10,
              "solidity": 0.2
             }
            },
            "type": "barpolar"
           }
          ],
          "carpet": [
           {
            "aaxis": {
             "endlinecolor": "#2a3f5f",
             "gridcolor": "white",
             "linecolor": "white",
             "minorgridcolor": "white",
             "startlinecolor": "#2a3f5f"
            },
            "baxis": {
             "endlinecolor": "#2a3f5f",
             "gridcolor": "white",
             "linecolor": "white",
             "minorgridcolor": "white",
             "startlinecolor": "#2a3f5f"
            },
            "type": "carpet"
           }
          ],
          "choropleth": [
           {
            "colorbar": {
             "outlinewidth": 0,
             "ticks": ""
            },
            "type": "choropleth"
           }
          ],
          "contour": [
           {
            "colorbar": {
             "outlinewidth": 0,
             "ticks": ""
            },
            "colorscale": [
             [
              0,
              "#0d0887"
             ],
             [
              0.1111111111111111,
              "#46039f"
             ],
             [
              0.2222222222222222,
              "#7201a8"
             ],
             [
              0.3333333333333333,
              "#9c179e"
             ],
             [
              0.4444444444444444,
              "#bd3786"
             ],
             [
              0.5555555555555556,
              "#d8576b"
             ],
             [
              0.6666666666666666,
              "#ed7953"
             ],
             [
              0.7777777777777778,
              "#fb9f3a"
             ],
             [
              0.8888888888888888,
              "#fdca26"
             ],
             [
              1,
              "#f0f921"
             ]
            ],
            "type": "contour"
           }
          ],
          "contourcarpet": [
           {
            "colorbar": {
             "outlinewidth": 0,
             "ticks": ""
            },
            "type": "contourcarpet"
           }
          ],
          "heatmap": [
           {
            "colorbar": {
             "outlinewidth": 0,
             "ticks": ""
            },
            "colorscale": [
             [
              0,
              "#0d0887"
             ],
             [
              0.1111111111111111,
              "#46039f"
             ],
             [
              0.2222222222222222,
              "#7201a8"
             ],
             [
              0.3333333333333333,
              "#9c179e"
             ],
             [
              0.4444444444444444,
              "#bd3786"
             ],
             [
              0.5555555555555556,
              "#d8576b"
             ],
             [
              0.6666666666666666,
              "#ed7953"
             ],
             [
              0.7777777777777778,
              "#fb9f3a"
             ],
             [
              0.8888888888888888,
              "#fdca26"
             ],
             [
              1,
              "#f0f921"
             ]
            ],
            "type": "heatmap"
           }
          ],
          "histogram": [
           {
            "marker": {
             "pattern": {
              "fillmode": "overlay",
              "size": 10,
              "solidity": 0.2
             }
            },
            "type": "histogram"
           }
          ],
          "histogram2d": [
           {
            "colorbar": {
             "outlinewidth": 0,
             "ticks": ""
            },
            "colorscale": [
             [
              0,
              "#0d0887"
             ],
             [
              0.1111111111111111,
              "#46039f"
             ],
             [
              0.2222222222222222,
              "#7201a8"
             ],
             [
              0.3333333333333333,
              "#9c179e"
             ],
             [
              0.4444444444444444,
              "#bd3786"
             ],
             [
              0.5555555555555556,
              "#d8576b"
             ],
             [
              0.6666666666666666,
              "#ed7953"
             ],
             [
              0.7777777777777778,
              "#fb9f3a"
             ],
             [
              0.8888888888888888,
              "#fdca26"
             ],
             [
              1,
              "#f0f921"
             ]
            ],
            "type": "histogram2d"
           }
          ],
          "histogram2dcontour": [
           {
            "colorbar": {
             "outlinewidth": 0,
             "ticks": ""
            },
            "colorscale": [
             [
              0,
              "#0d0887"
             ],
             [
              0.1111111111111111,
              "#46039f"
             ],
             [
              0.2222222222222222,
              "#7201a8"
             ],
             [
              0.3333333333333333,
              "#9c179e"
             ],
             [
              0.4444444444444444,
              "#bd3786"
             ],
             [
              0.5555555555555556,
              "#d8576b"
             ],
             [
              0.6666666666666666,
              "#ed7953"
             ],
             [
              0.7777777777777778,
              "#fb9f3a"
             ],
             [
              0.8888888888888888,
              "#fdca26"
             ],
             [
              1,
              "#f0f921"
             ]
            ],
            "type": "histogram2dcontour"
           }
          ],
          "mesh3d": [
           {
            "colorbar": {
             "outlinewidth": 0,
             "ticks": ""
            },
            "type": "mesh3d"
           }
          ],
          "parcoords": [
           {
            "line": {
             "colorbar": {
              "outlinewidth": 0,
              "ticks": ""
             }
            },
            "type": "parcoords"
           }
          ],
          "pie": [
           {
            "automargin": true,
            "type": "pie"
           }
          ],
          "scatter": [
           {
            "fillpattern": {
             "fillmode": "overlay",
             "size": 10,
             "solidity": 0.2
            },
            "type": "scatter"
           }
          ],
          "scatter3d": [
           {
            "line": {
             "colorbar": {
              "outlinewidth": 0,
              "ticks": ""
             }
            },
            "marker": {
             "colorbar": {
              "outlinewidth": 0,
              "ticks": ""
             }
            },
            "type": "scatter3d"
           }
          ],
          "scattercarpet": [
           {
            "marker": {
             "colorbar": {
              "outlinewidth": 0,
              "ticks": ""
             }
            },
            "type": "scattercarpet"
           }
          ],
          "scattergeo": [
           {
            "marker": {
             "colorbar": {
              "outlinewidth": 0,
              "ticks": ""
             }
            },
            "type": "scattergeo"
           }
          ],
          "scattergl": [
           {
            "marker": {
             "colorbar": {
              "outlinewidth": 0,
              "ticks": ""
             }
            },
            "type": "scattergl"
           }
          ],
          "scattermap": [
           {
            "marker": {
             "colorbar": {
              "outlinewidth": 0,
              "ticks": ""
             }
            },
            "type": "scattermap"
           }
          ],
          "scattermapbox": [
           {
            "marker": {
             "colorbar": {
              "outlinewidth": 0,
              "ticks": ""
             }
            },
            "type": "scattermapbox"
           }
          ],
          "scatterpolar": [
           {
            "marker": {
             "colorbar": {
              "outlinewidth": 0,
              "ticks": ""
             }
            },
            "type": "scatterpolar"
           }
          ],
          "scatterpolargl": [
           {
            "marker": {
             "colorbar": {
              "outlinewidth": 0,
              "ticks": ""
             }
            },
            "type": "scatterpolargl"
           }
          ],
          "scatterternary": [
           {
            "marker": {
             "colorbar": {
              "outlinewidth": 0,
              "ticks": ""
             }
            },
            "type": "scatterternary"
           }
          ],
          "surface": [
           {
            "colorbar": {
             "outlinewidth": 0,
             "ticks": ""
            },
            "colorscale": [
             [
              0,
              "#0d0887"
             ],
             [
              0.1111111111111111,
              "#46039f"
             ],
             [
              0.2222222222222222,
              "#7201a8"
             ],
             [
              0.3333333333333333,
              "#9c179e"
             ],
             [
              0.4444444444444444,
              "#bd3786"
             ],
             [
              0.5555555555555556,
              "#d8576b"
             ],
             [
              0.6666666666666666,
              "#ed7953"
             ],
             [
              0.7777777777777778,
              "#fb9f3a"
             ],
             [
              0.8888888888888888,
              "#fdca26"
             ],
             [
              1,
              "#f0f921"
             ]
            ],
            "type": "surface"
           }
          ],
          "table": [
           {
            "cells": {
             "fill": {
              "color": "#EBF0F8"
             },
             "line": {
              "color": "white"
             }
            },
            "header": {
             "fill": {
              "color": "#C8D4E3"
             },
             "line": {
              "color": "white"
             }
            },
            "type": "table"
           }
          ]
         },
         "layout": {
          "annotationdefaults": {
           "arrowcolor": "#2a3f5f",
           "arrowhead": 0,
           "arrowwidth": 1
          },
          "autotypenumbers": "strict",
          "coloraxis": {
           "colorbar": {
            "outlinewidth": 0,
            "ticks": ""
           }
          },
          "colorscale": {
           "diverging": [
            [
             0,
             "#8e0152"
            ],
            [
             0.1,
             "#c51b7d"
            ],
            [
             0.2,
             "#de77ae"
            ],
            [
             0.3,
             "#f1b6da"
            ],
            [
             0.4,
             "#fde0ef"
            ],
            [
             0.5,
             "#f7f7f7"
            ],
            [
             0.6,
             "#e6f5d0"
            ],
            [
             0.7,
             "#b8e186"
            ],
            [
             0.8,
             "#7fbc41"
            ],
            [
             0.9,
             "#4d9221"
            ],
            [
             1,
             "#276419"
            ]
           ],
           "sequential": [
            [
             0,
             "#0d0887"
            ],
            [
             0.1111111111111111,
             "#46039f"
            ],
            [
             0.2222222222222222,
             "#7201a8"
            ],
            [
             0.3333333333333333,
             "#9c179e"
            ],
            [
             0.4444444444444444,
             "#bd3786"
            ],
            [
             0.5555555555555556,
             "#d8576b"
            ],
            [
             0.6666666666666666,
             "#ed7953"
            ],
            [
             0.7777777777777778,
             "#fb9f3a"
            ],
            [
             0.8888888888888888,
             "#fdca26"
            ],
            [
             1,
             "#f0f921"
            ]
           ],
           "sequentialminus": [
            [
             0,
             "#0d0887"
            ],
            [
             0.1111111111111111,
             "#46039f"
            ],
            [
             0.2222222222222222,
             "#7201a8"
            ],
            [
             0.3333333333333333,
             "#9c179e"
            ],
            [
             0.4444444444444444,
             "#bd3786"
            ],
            [
             0.5555555555555556,
             "#d8576b"
            ],
            [
             0.6666666666666666,
             "#ed7953"
            ],
            [
             0.7777777777777778,
             "#fb9f3a"
            ],
            [
             0.8888888888888888,
             "#fdca26"
            ],
            [
             1,
             "#f0f921"
            ]
           ]
          },
          "colorway": [
           "#636efa",
           "#EF553B",
           "#00cc96",
           "#ab63fa",
           "#FFA15A",
           "#19d3f3",
           "#FF6692",
           "#B6E880",
           "#FF97FF",
           "#FECB52"
          ],
          "font": {
           "color": "#2a3f5f"
          },
          "geo": {
           "bgcolor": "white",
           "lakecolor": "white",
           "landcolor": "#E5ECF6",
           "showlakes": true,
           "showland": true,
           "subunitcolor": "white"
          },
          "hoverlabel": {
           "align": "left"
          },
          "hovermode": "closest",
          "mapbox": {
           "style": "light"
          },
          "paper_bgcolor": "white",
          "plot_bgcolor": "#E5ECF6",
          "polar": {
           "angularaxis": {
            "gridcolor": "white",
            "linecolor": "white",
            "ticks": ""
           },
           "bgcolor": "#E5ECF6",
           "radialaxis": {
            "gridcolor": "white",
            "linecolor": "white",
            "ticks": ""
           }
          },
          "scene": {
           "xaxis": {
            "backgroundcolor": "#E5ECF6",
            "gridcolor": "white",
            "gridwidth": 2,
            "linecolor": "white",
            "showbackground": true,
            "ticks": "",
            "zerolinecolor": "white"
           },
           "yaxis": {
            "backgroundcolor": "#E5ECF6",
            "gridcolor": "white",
            "gridwidth": 2,
            "linecolor": "white",
            "showbackground": true,
            "ticks": "",
            "zerolinecolor": "white"
           },
           "zaxis": {
            "backgroundcolor": "#E5ECF6",
            "gridcolor": "white",
            "gridwidth": 2,
            "linecolor": "white",
            "showbackground": true,
            "ticks": "",
            "zerolinecolor": "white"
           }
          },
          "shapedefaults": {
           "line": {
            "color": "#2a3f5f"
           }
          },
          "ternary": {
           "aaxis": {
            "gridcolor": "white",
            "linecolor": "white",
            "ticks": ""
           },
           "baxis": {
            "gridcolor": "white",
            "linecolor": "white",
            "ticks": ""
           },
           "bgcolor": "#E5ECF6",
           "caxis": {
            "gridcolor": "white",
            "linecolor": "white",
            "ticks": ""
           }
          },
          "title": {
           "x": 0.05
          },
          "xaxis": {
           "automargin": true,
           "gridcolor": "white",
           "linecolor": "white",
           "ticks": "",
           "title": {
            "standoff": 15
           },
           "zerolinecolor": "white",
           "zerolinewidth": 2
          },
          "yaxis": {
           "automargin": true,
           "gridcolor": "white",
           "linecolor": "white",
           "ticks": "",
           "title": {
            "standoff": 15
           },
           "zerolinecolor": "white",
           "zerolinewidth": 2
          }
         }
        },
        "title": {
         "text": "Proportion of Exited vs Stayed by Tenure"
        },
        "xaxis": {
         "anchor": "y",
         "autorange": true,
         "domain": [
          0,
          1
         ],
         "range": [
          0,
          10
         ],
         "title": {
          "text": "Tenure"
         },
         "type": "linear"
        },
        "yaxis": {
         "anchor": "x",
         "autorange": true,
         "domain": [
          0,
          1
         ],
         "range": [
          0,
          1.0526315789473684
         ],
         "tickformat": ".0%",
         "title": {
          "text": "Proportion of Exited vs Stayed by Tenure"
         },
         "type": "linear"
        }
       }
      },
      "image/png": "[encoded data removed]"
     },
     "metadata": {},
     "output_type": "display_data"
    },
    {
     "data": {
      "text/html": [
       "<div>\n",
       "<style scoped>\n",
       "    .dataframe tbody tr th:only-of-type {\n",
       "        vertical-align: middle;\n",
       "    }\n",
       "\n",
       "    .dataframe tbody tr th {\n",
       "        vertical-align: top;\n",
       "    }\n",
       "\n",
       "    .dataframe thead th {\n",
       "        text-align: right;\n",
       "    }\n",
       "</style>\n",
       "<table border=\"1\" class=\"dataframe\">\n",
       "  <thead>\n",
       "    <tr style=\"text-align: right;\">\n",
       "      <th></th>\n",
       "      <th>count</th>\n",
       "      <th>Exited</th>\n",
       "      <th>Stayed</th>\n",
       "      <th>Exited%</th>\n",
       "      <th>Stayed%</th>\n",
       "    </tr>\n",
       "    <tr>\n",
       "      <th>Tenure</th>\n",
       "      <th></th>\n",
       "      <th></th>\n",
       "      <th></th>\n",
       "      <th></th>\n",
       "      <th></th>\n",
       "    </tr>\n",
       "  </thead>\n",
       "  <tbody>\n",
       "    <tr>\n",
       "      <th>2</th>\n",
       "      <td>1048</td>\n",
       "      <td>201</td>\n",
       "      <td>847</td>\n",
       "      <td>0.191794</td>\n",
       "      <td>0.808206</td>\n",
       "    </tr>\n",
       "    <tr>\n",
       "      <th>1</th>\n",
       "      <td>1035</td>\n",
       "      <td>232</td>\n",
       "      <td>803</td>\n",
       "      <td>0.224155</td>\n",
       "      <td>0.775845</td>\n",
       "    </tr>\n",
       "    <tr>\n",
       "      <th>7</th>\n",
       "      <td>1028</td>\n",
       "      <td>177</td>\n",
       "      <td>851</td>\n",
       "      <td>0.172179</td>\n",
       "      <td>0.827821</td>\n",
       "    </tr>\n",
       "    <tr>\n",
       "      <th>8</th>\n",
       "      <td>1025</td>\n",
       "      <td>197</td>\n",
       "      <td>828</td>\n",
       "      <td>0.192195</td>\n",
       "      <td>0.807805</td>\n",
       "    </tr>\n",
       "    <tr>\n",
       "      <th>5</th>\n",
       "      <td>1012</td>\n",
       "      <td>209</td>\n",
       "      <td>803</td>\n",
       "      <td>0.206522</td>\n",
       "      <td>0.793478</td>\n",
       "    </tr>\n",
       "    <tr>\n",
       "      <th>3</th>\n",
       "      <td>1009</td>\n",
       "      <td>213</td>\n",
       "      <td>796</td>\n",
       "      <td>0.211100</td>\n",
       "      <td>0.788900</td>\n",
       "    </tr>\n",
       "    <tr>\n",
       "      <th>4</th>\n",
       "      <td>989</td>\n",
       "      <td>203</td>\n",
       "      <td>786</td>\n",
       "      <td>0.205258</td>\n",
       "      <td>0.794742</td>\n",
       "    </tr>\n",
       "    <tr>\n",
       "      <th>9</th>\n",
       "      <td>984</td>\n",
       "      <td>213</td>\n",
       "      <td>771</td>\n",
       "      <td>0.216463</td>\n",
       "      <td>0.783537</td>\n",
       "    </tr>\n",
       "    <tr>\n",
       "      <th>6</th>\n",
       "      <td>967</td>\n",
       "      <td>196</td>\n",
       "      <td>771</td>\n",
       "      <td>0.202689</td>\n",
       "      <td>0.797311</td>\n",
       "    </tr>\n",
       "    <tr>\n",
       "      <th>10</th>\n",
       "      <td>490</td>\n",
       "      <td>101</td>\n",
       "      <td>389</td>\n",
       "      <td>0.206122</td>\n",
       "      <td>0.793878</td>\n",
       "    </tr>\n",
       "    <tr>\n",
       "      <th>0</th>\n",
       "      <td>413</td>\n",
       "      <td>95</td>\n",
       "      <td>318</td>\n",
       "      <td>0.230024</td>\n",
       "      <td>0.769976</td>\n",
       "    </tr>\n",
       "  </tbody>\n",
       "</table>\n",
       "</div>"
      ],
      "text/plain": [
       "        count  Exited  Stayed   Exited%   Stayed%\n",
       "Tenure                                           \n",
       "2        1048     201     847  0.191794  0.808206\n",
       "1        1035     232     803  0.224155  0.775845\n",
       "7        1028     177     851  0.172179  0.827821\n",
       "8        1025     197     828  0.192195  0.807805\n",
       "5        1012     209     803  0.206522  0.793478\n",
       "3        1009     213     796  0.211100  0.788900\n",
       "4         989     203     786  0.205258  0.794742\n",
       "9         984     213     771  0.216463  0.783537\n",
       "6         967     196     771  0.202689  0.797311\n",
       "10        490     101     389  0.206122  0.793878\n",
       "0         413      95     318  0.230024  0.769976"
      ]
     },
     "execution_count": 12,
     "metadata": {},
     "output_type": "execute_result"
    }
   ],
   "source": [
    "tenure_counting = count_exited(X_raw, Y, 'Tenure')\n",
    "plot_counting('Proporção de saída por tempo de conta', tenure_counting, format='area')"
   ]
  },
  {
   "cell_type": "markdown",
   "id": "67826dda-ccdc-4d02-a5b0-9abaf9f37544",
   "metadata": {},
   "source": [
    "Esse fator parece ter uma variabilidade muito baixa. Vale a pergunta: ele é explicativo? Vamos fazer um teste, gerando regressões com e sem esse fator:"
   ]
  },
  {
   "cell_type": "code",
   "execution_count": 13,
   "id": "f9aa7f94-0895-4977-bad8-09bc6cf05adb",
   "metadata": {},
   "outputs": [
    {
     "ename": "ValueError",
     "evalue": "endog must be in the unit interval.",
     "output_type": "error",
     "traceback": [
      "\u001b[0;31m---------------------------------------------------------------------------\u001b[0m",
      "\u001b[0;31mValueError\u001b[0m                                Traceback (most recent call last)",
      "Cell \u001b[0;32mIn[13], line 6\u001b[0m\n\u001b[1;32m      3\u001b[0m    X_prime \u001b[38;5;241m=\u001b[39m X\u001b[38;5;241m.\u001b[39mdrop(factors, axis\u001b[38;5;241m=\u001b[39m\u001b[38;5;241m1\u001b[39m)\n\u001b[1;32m      4\u001b[0m    \u001b[38;5;28;01mreturn\u001b[39;00m compare_models(X, X_prime, Y, Y)\n\u001b[0;32m----> 6\u001b[0m \u001b[43mcompare_factor_relevance\u001b[49m\u001b[43m(\u001b[49m\u001b[43mX\u001b[49m\u001b[43m,\u001b[49m\u001b[43m \u001b[49m\u001b[43mY\u001b[49m\u001b[43m,\u001b[49m\u001b[43m \u001b[49m\u001b[43m[\u001b[49m\u001b[38;5;124;43m'\u001b[39;49m\u001b[38;5;124;43mTenure\u001b[39;49m\u001b[38;5;124;43m'\u001b[39;49m\u001b[43m]\u001b[49m\u001b[43m)\u001b[49m\n",
      "Cell \u001b[0;32mIn[13], line 4\u001b[0m, in \u001b[0;36mcompare_factor_relevance\u001b[0;34m(X, Y, factors)\u001b[0m\n\u001b[1;32m      2\u001b[0m X \u001b[38;5;241m=\u001b[39m sm\u001b[38;5;241m.\u001b[39madd_constant(X)\n\u001b[1;32m      3\u001b[0m X_prime \u001b[38;5;241m=\u001b[39m X\u001b[38;5;241m.\u001b[39mdrop(factors, axis\u001b[38;5;241m=\u001b[39m\u001b[38;5;241m1\u001b[39m)\n\u001b[0;32m----> 4\u001b[0m \u001b[38;5;28;01mreturn\u001b[39;00m \u001b[43mcompare_models\u001b[49m\u001b[43m(\u001b[49m\u001b[43mX\u001b[49m\u001b[43m,\u001b[49m\u001b[43m \u001b[49m\u001b[43mX_prime\u001b[49m\u001b[43m,\u001b[49m\u001b[43m \u001b[49m\u001b[43mY\u001b[49m\u001b[43m,\u001b[49m\u001b[43m \u001b[49m\u001b[43mY\u001b[49m\u001b[43m)\u001b[49m\n",
      "Cell \u001b[0;32mIn[10], line 7\u001b[0m, in \u001b[0;36mcompare_models\u001b[0;34m(X, Y, X_prime, Y_prime)\u001b[0m\n\u001b[1;32m      6\u001b[0m \u001b[38;5;28;01mdef\u001b[39;00m \u001b[38;5;21mcompare_models\u001b[39m(X, Y, X_prime, Y_prime):\n\u001b[0;32m----> 7\u001b[0m     full_model \u001b[38;5;241m=\u001b[39m \u001b[43msm\u001b[49m\u001b[38;5;241;43m.\u001b[39;49m\u001b[43mLogit\u001b[49m\u001b[43m(\u001b[49m\u001b[43mY\u001b[49m\u001b[43m,\u001b[49m\u001b[43m \u001b[49m\u001b[43mX\u001b[49m\u001b[43m)\u001b[49m\u001b[38;5;241m.\u001b[39mfit(disp\u001b[38;5;241m=\u001b[39m\u001b[38;5;28;01mFalse\u001b[39;00m)\n\u001b[1;32m      8\u001b[0m     alternative_model \u001b[38;5;241m=\u001b[39m sm\u001b[38;5;241m.\u001b[39mLogit(Y_prime, X_prime)\u001b[38;5;241m.\u001b[39mfit(disp\u001b[38;5;241m=\u001b[39m\u001b[38;5;28;01mFalse\u001b[39;00m)\n\u001b[1;32m     10\u001b[0m     \u001b[38;5;28mprint\u001b[39m(\n\u001b[1;32m     11\u001b[0m         \u001b[38;5;124m'\u001b[39m\u001b[38;5;124mFull dataset:\u001b[39m\u001b[38;5;124m'\u001b[39m, full_model\u001b[38;5;241m.\u001b[39mparams,\n\u001b[1;32m     12\u001b[0m         \u001b[38;5;124m'\u001b[39m\u001b[38;5;124mAlt dataset:\u001b[39m\u001b[38;5;124m'\u001b[39m, alternative_model\u001b[38;5;241m.\u001b[39mparams,\n\u001b[1;32m     13\u001b[0m         sep\u001b[38;5;241m=\u001b[39m\u001b[38;5;124m'\u001b[39m\u001b[38;5;130;01m\\n\u001b[39;00m\u001b[38;5;124m'\u001b[39m\n\u001b[1;32m     14\u001b[0m     )\n",
      "File \u001b[0;32m~/lib/virtualenv/data-mining-experiments/lib/python3.12/site-packages/statsmodels/discrete/discrete_model.py:479\u001b[0m, in \u001b[0;36mBinaryModel.__init__\u001b[0;34m(self, endog, exog, offset, check_rank, **kwargs)\u001b[0m\n\u001b[1;32m    477\u001b[0m \u001b[38;5;28;01mif\u001b[39;00m \u001b[38;5;129;01mnot\u001b[39;00m \u001b[38;5;28missubclass\u001b[39m(\u001b[38;5;28mself\u001b[39m\u001b[38;5;241m.\u001b[39m\u001b[38;5;18m__class__\u001b[39m, MultinomialModel):\n\u001b[1;32m    478\u001b[0m     \u001b[38;5;28;01mif\u001b[39;00m \u001b[38;5;129;01mnot\u001b[39;00m np\u001b[38;5;241m.\u001b[39mall((\u001b[38;5;28mself\u001b[39m\u001b[38;5;241m.\u001b[39mendog \u001b[38;5;241m>\u001b[39m\u001b[38;5;241m=\u001b[39m \u001b[38;5;241m0\u001b[39m) \u001b[38;5;241m&\u001b[39m (\u001b[38;5;28mself\u001b[39m\u001b[38;5;241m.\u001b[39mendog \u001b[38;5;241m<\u001b[39m\u001b[38;5;241m=\u001b[39m \u001b[38;5;241m1\u001b[39m)):\n\u001b[0;32m--> 479\u001b[0m         \u001b[38;5;28;01mraise\u001b[39;00m \u001b[38;5;167;01mValueError\u001b[39;00m(\u001b[38;5;124m\"\u001b[39m\u001b[38;5;124mendog must be in the unit interval.\u001b[39m\u001b[38;5;124m\"\u001b[39m)\n\u001b[1;32m    481\u001b[0m \u001b[38;5;28;01mif\u001b[39;00m offset \u001b[38;5;129;01mis\u001b[39;00m \u001b[38;5;28;01mNone\u001b[39;00m:\n\u001b[1;32m    482\u001b[0m     \u001b[38;5;28mdelattr\u001b[39m(\u001b[38;5;28mself\u001b[39m, \u001b[38;5;124m'\u001b[39m\u001b[38;5;124moffset\u001b[39m\u001b[38;5;124m'\u001b[39m)\n",
      "\u001b[0;31mValueError\u001b[0m: endog must be in the unit interval."
     ]
    }
   ],
   "source": [
    " def compare_factor_relevance(X, Y, factors):\n",
    "    X = sm.add_constant(X)\n",
    "    X_prime = X.drop(factors, axis=1)\n",
    "    return compare_models(X, X_prime, Y, Y)\n",
    "\n",
    "compare_factor_relevance(X, Y, ['Tenure'])"
   ]
  },
  {
   "cell_type": "code",
   "execution_count": null,
   "id": "bb2442c1-d69a-4072-a8a1-fc7b5629a746",
   "metadata": {},
   "outputs": [],
   "source": [
    "tenure_counting['Exited'].std()"
   ]
  },
  {
   "cell_type": "markdown",
   "id": "8a70b6ab-ab97-4eea-a807-4324497580be",
   "metadata": {},
   "source": [
    "# Análise de pré-requisitos\n",
    "\n",
    "Para avaliar como melhor utilizar essas variáveis, vamos executar dois procedimentos:\n",
    "\n",
    "- verificar se a base está balanceada e, se não, balanceá-la; e\n",
    "- verificar os pré-requisitos dos fatores para regressão logística.\n",
    "\n",
    "### Balanceamento da base\n",
    "\n",
    "Verifiquemos se a base está balanceada:"
   ]
  },
  {
   "cell_type": "code",
   "execution_count": null,
   "id": "b36b9ab6-336e-43e2-aade-5b828a65b810",
   "metadata": {},
   "outputs": [],
   "source": [
    "def show_dataset_balance(df):\n",
    "    counts = df.value_counts()\n",
    "    counts_df = pd.DataFrame(dict(counts=counts), index=counts.index)\n",
    "    counts_graph = px.pie(\n",
    "        title='Proporção de clientes atuais e evadidos',\n",
    "        values=counts_df['counts'],\n",
    "        names=['Atuais', 'Evadidos']\n",
    "    )\n",
    "    counts_graph.show()\n",
    "    return counts_df\n",
    "\n",
    "show_dataset_balance(Y)"
   ]
  },
  {
   "cell_type": "markdown",
   "id": "bead102d-cc35-498b-a74f-1929a9937fee",
   "metadata": {},
   "source": [
    "Claramente, temos cinco clientes que não saíram para cada cliente que saiu. Isso é desbalanceado, então vamos balancear a base utilizndo [SMOTENC](https://imbalanced-learn.org/dev/references/generated/imblearn.over_sampling.SMOTENC.html)."
   ]
  },
  {
   "cell_type": "code",
   "execution_count": null,
   "id": "9be2a817-1ffd-4eae-9e9a-9e25bfe40542",
   "metadata": {},
   "outputs": [],
   "source": [
    "from imblearn.over_sampling import SMOTENC\n",
    "\n",
    "smotenc = SMOTENC(categorical_features=[X.columns.get_loc(f) for f in categorical_factors], random_state=42)\n",
    "X, Y = smotenc.fit_resample(X, Y)\n",
    "\n",
    "show_dataset_balance(Y)"
   ]
  },
  {
   "cell_type": "markdown",
   "id": "392d6448-9a36-4af6-bc08-d0e3d71e8157",
   "metadata": {},
   "source": [
    "Com a base balanceada, podemos prosseguir para analisar os pré-requisitos da regressão logística:\n",
    "- ausência de colinearidade entre fatoreds;\n",
    "- linearidade entre fatores e o logit das razões de chances.\n",
    "\n",
    "### Colinearidade\n",
    "\n",
    "A colinearidade pode ser verificada utilizando o [fator de inflação de variância](https://www.datacamp.com/pt/tutorial/variance-inflation-factor)."
   ]
  },
  {
   "cell_type": "code",
   "execution_count": null,
   "id": "2cf0725f-2d57-4856-af6d-00c5102c1b0f",
   "metadata": {},
   "outputs": [],
   "source": [
    "import statsmodels.api as sm\n",
    "from statsmodels.stats.outliers_influence import variance_inflation_factor\n",
    "\n",
    "# Since VIF is calculated from R^2, we will need to do a regression\n",
    "# and thus we need the constant column for the intercept.\n",
    "X = sm.add_constant(X)\n",
    "# Enconding categorical values\n",
    "X = pd.get_dummies(X, columns=categorical_factors, drop_first=True, dtype=int)"
   ]
  },
  {
   "cell_type": "code",
   "execution_count": null,
   "id": "eb2931c3-c073-41f0-8266-68ff4a519570",
   "metadata": {
    "scrolled": true
   },
   "outputs": [],
   "source": [
    "vif = pd.DataFrame()\n",
    "vif[\"feature\"] = X.columns\n",
    "vif[\"VIF\"] = [variance_inflation_factor(X.values, i) for i in range(X.shape[1])]\n",
    "vif[vif['feature'] != 'const']"
   ]
  },
  {
   "cell_type": "markdown",
   "id": "3b9791d8-f4a8-44f2-8074-d548d54d63f6",
   "metadata": {},
   "source": [
    "Como todos os valores estão bem próximos de 1, é razoável assumir que nenhum campo tem alta colinearidade, então podemos escolher quaisquer uns deles.\n",
    "\n",
    "## Linearidade com o logit da probabilidade\n",
    "\n",
    "Outro pré-requisito para regressão logística é uma relação quase linear entre os fatores e o log da razão de chance (i.e. a logit da probabilidade):\n",
    "\n",
    "$$\n",
    "X_1, X_2, ..., X_n \\sim_{linear} Y\n",
    "$$\n",
    "\n",
    "Para verificar isso, vamos utilizar o [teste de Box-Tidwell](https://archive.org/details/logisticregressi0000ocon/page/44/mode/2up?q=%22box-tidwell%22). Esses são os passos do teste:\n",
    "\n",
    "1. selecione apenas as colunas dos fatores contínuos;\n",
    "2. selecione apenas as linhas em que todos os valores são positivos (no nosso caso, desnecessário, pois todos já são positivos);\n",
    "3. para cada coluna original, adicione outra com o log natural dela;\n",
    "4. para cada coluna original, adicione outra (chamada de \"interação\") com o produto do valor original pelo log do valor original;\n",
    "5. treinamos uma regressão logística com esse novo dataset.\n",
    "6. verificamos os coeficientes: se algum coeficiente de alguma interação for grande, isso indica não-linearidade da coluna original correspondente.\n",
    "\n",
    "Aqui executamos os passos:"
   ]
  },
  {
   "cell_type": "code",
   "execution_count": null,
   "id": "eb017418-745d-4d7e-88fb-a04fad6d0476",
   "metadata": {},
   "outputs": [],
   "source": [
    "import numpy as np\n",
    "\n",
    "numeric_columns = ['Age', 'Tenure', 'Balance', 'NumOfProducts', 'EstimatedSalary']\n",
    "\n",
    "def box_tidwell(X, Y, output_column='Exited', columns=numeric_factors):\n",
    "    X = X[columns].copy()\n",
    "    for c in X.columns:\n",
    "        # We have many columns that are closer to the constant, so we\n",
    "        # normalize colinearity with the constant\n",
    "        X[c] = (X[c] - X[c].mean()) / X[c].std()\n",
    "        X[c] = X[c] - X[c].min() + 1e-6\n",
    "        # We add a very small positive constant to avoid zeros in the\n",
    "        # values.\n",
    "        X[f'{c}:interaction'] = X[c] * np.log(X[c].replace(0, 1e-6))\n",
    "    X = sm.add_constant(X)\n",
    "    model = sm.Logit(Y, X)\n",
    "    result = model.fit()\n",
    "    return result\n",
    "\n",
    "def box_tidwell_multiple(X, Y, columns):\n",
    "    bt_df = pd.DataFrame({\n",
    "        'factor': [],\n",
    "        'pvalue': []\n",
    "    })\n",
    "    for i, col in enumerate(columns):\n",
    "        res = box_tidwell(X, Y, columns=[col])\n",
    "        interaction = f'{col}:interaction'\n",
    "        bt_df.loc[i] = [interaction, res.pvalues[interaction]]\n",
    "    return bt_df\n",
    "\n",
    "box_tidwell_multiple(X, Y, numeric_columns)"
   ]
  },
  {
   "cell_type": "markdown",
   "id": "e1fb33d1-75d2-4270-9acf-85b64c1bc372",
   "metadata": {},
   "source": [
    "De todos os fatores, apenas salário estimado apresenta linearidade com o logit. Neste ponto, vale a pena olharmos para a relação entre os valores e o churn mais calmamente. Vamos plotar alguns histogramas dos valores:"
   ]
  },
  {
   "cell_type": "code",
   "execution_count": null,
   "id": "f08c48d4-0af2-4fa5-a2a6-45b138b915e6",
   "metadata": {},
   "outputs": [],
   "source": [
    "for col in numeric_columns:\n",
    "    prop = df[col] / \n",
    "    fig = px.histogram(\n",
    "        df,\n",
    "        x=col,\n",
    "        color='Exited',\n",
    "        barmode='stack',\n",
    "        title=f'Distribution of {col} by Exited Status',\n",
    "        color_discrete_map={0: '#1f77b4', 1: '#ff7f0e'}  # optional: blue/orange\n",
    "    )\n",
    "    fig.update_layout(\n",
    "        yaxis_title='Percentage',\n",
    "        bargap=0.1\n",
    "    )\n",
    "    fig.show()\n"
   ]
  },
  {
   "cell_type": "markdown",
   "id": "a2f54735-283d-4bc0-a6fa-9d9e68e6c627",
   "metadata": {},
   "source": [
    "Podemos experimentar transformações para tentar encontrar linearidades."
   ]
  },
  {
   "cell_type": "code",
   "execution_count": null,
   "id": "a4f4b2bd-ffbd-4f67-8b82-45f7b7a5bb80",
   "metadata": {},
   "outputs": [],
   "source": [
    "def box_tidwell_transform(X, Y, columns, f):\n",
    "    X = X.copy()\n",
    "    for c in columns:\n",
    "        X[c] = f(X[c])\n",
    "    return box_tidwell_multiple(X, Y, columns)"
   ]
  },
  {
   "cell_type": "markdown",
   "id": "e466f5c2-4dd2-4bb8-be7c-e9712441c46d",
   "metadata": {},
   "source": [
    "Comecemos considerando o logaritmo das propriedades:"
   ]
  },
  {
   "cell_type": "code",
   "execution_count": null,
   "id": "fc74e589-9df1-43a6-ab45-e10815b31606",
   "metadata": {},
   "outputs": [],
   "source": [
    "box_tidwell_transform(X, Y, numeric_columns, lambda v: np.log(v+1))"
   ]
  },
  {
   "cell_type": "markdown",
   "id": "e523d3bb-1776-4c4e-8d19-60c95deb7cdf",
   "metadata": {},
   "source": [
    "# Apêndice - Sandbox\n"
   ]
  },
  {
   "cell_type": "code",
   "execution_count": null,
   "id": "9be85b2d-9745-4c5c-bf0e-a1d9ac670af5",
   "metadata": {},
   "outputs": [],
   "source": [
    "sm.add_constant(sm.add_constant(X['Age']))"
   ]
  },
  {
   "cell_type": "code",
   "execution_count": null,
   "id": "a6f0a8ad-2140-4955-9d8e-48a931087ab2",
   "metadata": {},
   "outputs": [],
   "source": [
    "\n",
    "\n",
    "import numpy as np\n",
    "import pandas as pd\n",
    "import statsmodels.api as sm\n",
    "\n",
    "def box_tidwell_test(X, y, columns, varbose=False):\n",
    "    \"\"\"\n",
    "    Performs the Box–Tidwell test for linearity for each column in `columns`.\n",
    "    Also tests if log(x) or x² transformation improves linearity.\n",
    "    \"\"\"\n",
    "    results = []\n",
    "    \n",
    "    for col in columns:\n",
    "        x = X[col].copy()\n",
    "        # Add a small offset to avoid log(0)\n",
    "        x = x + 1e-6\n",
    "        \n",
    "        # Build design matrix: original + interaction\n",
    "        data = pd.DataFrame({\n",
    "            col: x,\n",
    "            f'{col}:interaction': x * np.log(x)\n",
    "        })\n",
    "        data = sm.add_constant(data)\n",
    "        \n",
    "        try:\n",
    "            model = sm.Logit(y, data)\n",
    "            result = model.fit(disp=0)\n",
    "            p_interaction = result.pvalues[f'{col}:interaction']\n",
    "        except Exception as e:\n",
    "            p_interaction = np.nan\n",
    "            if verbose:\n",
    "                print(f\"[WARN] {col} failed: {e}\")\n",
    "        \n",
    "        # Try log transform\n",
    "        try:\n",
    "            x_log = np.log(x)\n",
    "            data_log = sm.add_constant(x_log)\n",
    "            res_log = sm.Logit(y, data_log).fit(disp=0)\n",
    "            log_ll = res_log.llf\n",
    "        except Exception:\n",
    "            log_ll = np.nan\n",
    "        \n",
    "        # Try quadratic transform\n",
    "        try:\n",
    "            x_quad = x ** 2\n",
    "            data_quad = sm.add_constant(x_quad)\n",
    "            res_quad = sm.Logit(y, data_quad).fit(disp=0)\n",
    "            quad_ll = res_quad.llf\n",
    "        except Exception:\n",
    "            quad_ll = np.nan\n",
    "\n",
    "        # Try cubic transform\n",
    "        try:\n",
    "            x_cube = x ** 2\n",
    "            data_cube = sm.add_constant(x_cube)\n",
    "            res_cube = sm.Logit(y, data_cube).fit(disp=0)\n",
    "            cube_ll = res_cube.llf\n",
    "        except Exception:\n",
    "            cube_ll = np.nan\n",
    "\n",
    "        # Try exponential transform\n",
    "        try:\n",
    "            x_exp = np.exp(x)\n",
    "            data_exp = sm.add_constant(x_exp)\n",
    "            res_exp = sm.Logit(y, data_cube).fit(disp=0)\n",
    "            exp_ll = res_exp.llf\n",
    "        except Exception:\n",
    "            exp_ll = np.nan\n",
    "        \n",
    "        results.append({\n",
    "            'Variable': col,\n",
    "            'p(Box–Tidwell)': p_interaction,\n",
    "            'Linearity holds?': 'Yes' if (p_interaction > 0.05) else 'No',\n",
    "            'log(x) improves fit?': 'Yes' if (not np.isnan(log_ll) and log_ll > result.llf) else 'No',\n",
    "            'x² improves fit?': 'Yes' if (not np.isnan(quad_ll) and quad_ll > result.llf) else 'No',\n",
    "            'x3 improves fit?': 'Yes' if (not np.isnan(cube_ll) and cube_ll > result.llf) else 'No'\n",
    "        })\n",
    "    \n",
    "    return pd.DataFrame(results)\n",
    "\n"
   ]
  },
  {
   "cell_type": "code",
   "execution_count": null,
   "id": "ff3218d6-4e4b-4b12-a353-b5defa756472",
   "metadata": {},
   "outputs": [],
   "source": [
    "A[~A['Age'].isin(range(21, 81))]"
   ]
  }
 ],
 "metadata": {
  "kernelspec": {
   "display_name": "Python 3 (ipykernel)",
   "language": "python",
   "name": "python3"
  },
  "language_info": {
   "codemirror_mode": {
    "name": "ipython",
    "version": 3
   },
   "file_extension": ".py",
   "mimetype": "text/x-python",
   "name": "python",
   "nbconvert_exporter": "python",
   "pygments_lexer": "ipython3",
   "version": "3.12.3"
  }
 },
 "nbformat": 4,
 "nbformat_minor": 5
}
